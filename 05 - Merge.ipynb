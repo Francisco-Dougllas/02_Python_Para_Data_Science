{
 "cells": [
  {
   "cell_type": "markdown",
   "id": "99e3e52e",
   "metadata": {},
   "source": [
    "# Python para Analise de Dados"
   ]
  },
  {
   "cell_type": "code",
   "execution_count": 13,
   "id": "8a281177",
   "metadata": {
    "ExecuteTime": {
     "end_time": "2022-08-09T16:24:14.256256Z",
     "start_time": "2022-08-09T16:24:10.098849Z"
    }
   },
   "outputs": [],
   "source": [
    "import pandas as pd\n",
    "import numpy as np\n",
    "import matplotlib.pyplot as plt\n",
    "import seaborn as sns"
   ]
  },
  {
   "cell_type": "code",
   "execution_count": 14,
   "id": "71ceb4da",
   "metadata": {
    "ExecuteTime": {
     "end_time": "2022-08-09T16:24:47.865246Z",
     "start_time": "2022-08-09T16:24:47.053423Z"
    }
   },
   "outputs": [
    {
     "data": {
      "text/html": [
       "<div>\n",
       "<style scoped>\n",
       "    .dataframe tbody tr th:only-of-type {\n",
       "        vertical-align: middle;\n",
       "    }\n",
       "\n",
       "    .dataframe tbody tr th {\n",
       "        vertical-align: top;\n",
       "    }\n",
       "\n",
       "    .dataframe thead th {\n",
       "        text-align: right;\n",
       "    }\n",
       "</style>\n",
       "<table border=\"1\" class=\"dataframe\">\n",
       "  <thead>\n",
       "    <tr style=\"text-align: right;\">\n",
       "      <th></th>\n",
       "      <th>order_id</th>\n",
       "      <th>customer_id</th>\n",
       "      <th>order_status</th>\n",
       "      <th>order_purchase_timestamp</th>\n",
       "      <th>order_approved_at</th>\n",
       "      <th>order_delivered_carrier_date</th>\n",
       "      <th>order_delivered_customer_date</th>\n",
       "      <th>order_estimated_delivery_date</th>\n",
       "    </tr>\n",
       "  </thead>\n",
       "  <tbody>\n",
       "    <tr>\n",
       "      <th>0</th>\n",
       "      <td>e481f51cbdc54678b7cc49136f2d6af7</td>\n",
       "      <td>9ef432eb6251297304e76186b10a928d</td>\n",
       "      <td>delivered</td>\n",
       "      <td>2017-10-02 10:56:33</td>\n",
       "      <td>2017-10-02 11:07:15</td>\n",
       "      <td>2017-10-04 19:55:00</td>\n",
       "      <td>2017-10-10 21:25:13</td>\n",
       "      <td>2017-10-18 00:00:00</td>\n",
       "    </tr>\n",
       "    <tr>\n",
       "      <th>1</th>\n",
       "      <td>53cdb2fc8bc7dce0b6741e2150273451</td>\n",
       "      <td>b0830fb4747a6c6d20dea0b8c802d7ef</td>\n",
       "      <td>delivered</td>\n",
       "      <td>2018-07-24 20:41:37</td>\n",
       "      <td>2018-07-26 03:24:27</td>\n",
       "      <td>2018-07-26 14:31:00</td>\n",
       "      <td>2018-08-07 15:27:45</td>\n",
       "      <td>2018-08-13 00:00:00</td>\n",
       "    </tr>\n",
       "    <tr>\n",
       "      <th>2</th>\n",
       "      <td>47770eb9100c2d0c44946d9cf07ec65d</td>\n",
       "      <td>41ce2a54c0b03bf3443c3d931a367089</td>\n",
       "      <td>delivered</td>\n",
       "      <td>2018-08-08 08:38:49</td>\n",
       "      <td>2018-08-08 08:55:23</td>\n",
       "      <td>2018-08-08 13:50:00</td>\n",
       "      <td>2018-08-17 18:06:29</td>\n",
       "      <td>2018-09-04 00:00:00</td>\n",
       "    </tr>\n",
       "  </tbody>\n",
       "</table>\n",
       "</div>"
      ],
      "text/plain": [
       "                           order_id                       customer_id  \\\n",
       "0  e481f51cbdc54678b7cc49136f2d6af7  9ef432eb6251297304e76186b10a928d   \n",
       "1  53cdb2fc8bc7dce0b6741e2150273451  b0830fb4747a6c6d20dea0b8c802d7ef   \n",
       "2  47770eb9100c2d0c44946d9cf07ec65d  41ce2a54c0b03bf3443c3d931a367089   \n",
       "\n",
       "  order_status order_purchase_timestamp    order_approved_at  \\\n",
       "0    delivered      2017-10-02 10:56:33  2017-10-02 11:07:15   \n",
       "1    delivered      2018-07-24 20:41:37  2018-07-26 03:24:27   \n",
       "2    delivered      2018-08-08 08:38:49  2018-08-08 08:55:23   \n",
       "\n",
       "  order_delivered_carrier_date order_delivered_customer_date  \\\n",
       "0          2017-10-04 19:55:00           2017-10-10 21:25:13   \n",
       "1          2018-07-26 14:31:00           2018-08-07 15:27:45   \n",
       "2          2018-08-08 13:50:00           2018-08-17 18:06:29   \n",
       "\n",
       "  order_estimated_delivery_date  \n",
       "0           2017-10-18 00:00:00  \n",
       "1           2018-08-13 00:00:00  \n",
       "2           2018-09-04 00:00:00  "
      ]
     },
     "execution_count": 14,
     "metadata": {},
     "output_type": "execute_result"
    }
   ],
   "source": [
    "# Carregando o Primeiro Dataset Pedidos\n",
    "\n",
    "orders = pd.read_csv(\"datasets/olist_orders_dataset.csv\")\n",
    "orders.head(3)"
   ]
  },
  {
   "cell_type": "code",
   "execution_count": 15,
   "id": "6306d94a",
   "metadata": {
    "ExecuteTime": {
     "end_time": "2022-08-09T16:25:23.191154Z",
     "start_time": "2022-08-09T16:25:22.714568Z"
    }
   },
   "outputs": [
    {
     "data": {
      "text/html": [
       "<div>\n",
       "<style scoped>\n",
       "    .dataframe tbody tr th:only-of-type {\n",
       "        vertical-align: middle;\n",
       "    }\n",
       "\n",
       "    .dataframe tbody tr th {\n",
       "        vertical-align: top;\n",
       "    }\n",
       "\n",
       "    .dataframe thead th {\n",
       "        text-align: right;\n",
       "    }\n",
       "</style>\n",
       "<table border=\"1\" class=\"dataframe\">\n",
       "  <thead>\n",
       "    <tr style=\"text-align: right;\">\n",
       "      <th></th>\n",
       "      <th>order_id</th>\n",
       "      <th>order_item_id</th>\n",
       "      <th>product_id</th>\n",
       "      <th>seller_id</th>\n",
       "      <th>price</th>\n",
       "      <th>freight_value</th>\n",
       "    </tr>\n",
       "  </thead>\n",
       "  <tbody>\n",
       "    <tr>\n",
       "      <th>0</th>\n",
       "      <td>00010242fe8c5a6d1ba2dd792cb16214</td>\n",
       "      <td>1</td>\n",
       "      <td>4244733e06e7ecb4970a6e2683c13e61</td>\n",
       "      <td>48436dade18ac8b2bce089ec2a041202</td>\n",
       "      <td>58.9</td>\n",
       "      <td>13.29</td>\n",
       "    </tr>\n",
       "    <tr>\n",
       "      <th>1</th>\n",
       "      <td>00018f77f2f0320c557190d7a144bdd3</td>\n",
       "      <td>1</td>\n",
       "      <td>e5f2d52b802189ee658865ca93d83a8f</td>\n",
       "      <td>dd7ddc04e1b6c2c614352b383efe2d36</td>\n",
       "      <td>239.9</td>\n",
       "      <td>19.93</td>\n",
       "    </tr>\n",
       "    <tr>\n",
       "      <th>2</th>\n",
       "      <td>000229ec398224ef6ca0657da4fc703e</td>\n",
       "      <td>1</td>\n",
       "      <td>c777355d18b72b67abbeef9df44fd0fd</td>\n",
       "      <td>5b51032eddd242adc84c38acab88f23d</td>\n",
       "      <td>199.0</td>\n",
       "      <td>17.87</td>\n",
       "    </tr>\n",
       "  </tbody>\n",
       "</table>\n",
       "</div>"
      ],
      "text/plain": [
       "                           order_id  order_item_id  \\\n",
       "0  00010242fe8c5a6d1ba2dd792cb16214              1   \n",
       "1  00018f77f2f0320c557190d7a144bdd3              1   \n",
       "2  000229ec398224ef6ca0657da4fc703e              1   \n",
       "\n",
       "                         product_id                         seller_id  price  \\\n",
       "0  4244733e06e7ecb4970a6e2683c13e61  48436dade18ac8b2bce089ec2a041202   58.9   \n",
       "1  e5f2d52b802189ee658865ca93d83a8f  dd7ddc04e1b6c2c614352b383efe2d36  239.9   \n",
       "2  c777355d18b72b67abbeef9df44fd0fd  5b51032eddd242adc84c38acab88f23d  199.0   \n",
       "\n",
       "   freight_value  \n",
       "0          13.29  \n",
       "1          19.93  \n",
       "2          17.87  "
      ]
     },
     "execution_count": 15,
     "metadata": {},
     "output_type": "execute_result"
    }
   ],
   "source": [
    "# Carregando o Dataset de Itens Pedidos\n",
    "\n",
    "orders_items = pd.read_csv(\"datasets/olist_order_items_dataset.csv\")\n",
    "orders_items.head(3)"
   ]
  },
  {
   "cell_type": "markdown",
   "id": "e28afe93",
   "metadata": {},
   "source": [
    "## Opções de Merge\n",
    "\n",
    "**Tipos de join (ligações)**\n",
    "> - **INNER JOIN** (Padrão) - Retorna apenas os registros que contém a mesma chave em ambos os DataFrames.\n",
    "> - **LEFT JOIN** - Retorna todos os registros do DataFrame à esquerda independente se contém um correspondente à direita.\n",
    "> - **RIGHT JOIN** - Retorna todos os registros do DataFrame à direita independente se contém um correspondente à esquerda.\n",
    "> - **OUTER JOIN** - Retorna todos os registros de ambos os DataFrames."
   ]
  },
  {
   "cell_type": "code",
   "execution_count": 18,
   "id": "50b147bb",
   "metadata": {
    "ExecuteTime": {
     "end_time": "2022-08-09T16:28:45.003266Z",
     "start_time": "2022-08-09T16:28:44.973287Z"
    }
   },
   "outputs": [
    {
     "data": {
      "image/png": "[encoded data removed]",
      "text/plain": [
       "<IPython.core.display.Image object>"
      ]
     },
     "execution_count": 18,
     "metadata": {},
     "output_type": "execute_result"
    }
   ],
   "source": [
    "# Importando uma Imagem de Exemplo\n",
    "from IPython.display import Image\n",
    "Image('imagen.png')"
   ]
  },
  {
   "cell_type": "markdown",
   "id": "ae5e7bd3",
   "metadata": {},
   "source": [
    "**Consultando os dados nos dois datasets e ligando através da chave order_id**\n",
    "- Selecionando os atributos do dataset **orders (pedidos)**.\n",
    "> - order_id (id do pedido).\n",
    "> - order_status (status do pedido).\n",
    "> - order_approved_at (data e hora da aprovação do pedido).\n",
    "\n",
    "- Selecionando os atributos do dataset **orders_items (itens do pedidos)**.\n",
    "> - product_id (id do produto).\n",
    "> - seller_id (id do vendedor).\n",
    "> - price (preço do produto).\n",
    "> - freight_value (valor do frete)."
   ]
  },
  {
   "cell_type": "markdown",
   "id": "f9c43a93",
   "metadata": {},
   "source": [
    "### **Inner**"
   ]
  },
  {
   "cell_type": "code",
   "execution_count": 23,
   "id": "aa3072ae",
   "metadata": {
    "ExecuteTime": {
     "end_time": "2022-08-09T16:38:12.659305Z",
     "start_time": "2022-08-09T16:38:12.477185Z"
    }
   },
   "outputs": [
    {
     "data": {
      "text/html": [
       "<div>\n",
       "<style scoped>\n",
       "    .dataframe tbody tr th:only-of-type {\n",
       "        vertical-align: middle;\n",
       "    }\n",
       "\n",
       "    .dataframe tbody tr th {\n",
       "        vertical-align: top;\n",
       "    }\n",
       "\n",
       "    .dataframe thead th {\n",
       "        text-align: right;\n",
       "    }\n",
       "</style>\n",
       "<table border=\"1\" class=\"dataframe\">\n",
       "  <thead>\n",
       "    <tr style=\"text-align: right;\">\n",
       "      <th></th>\n",
       "      <th>order_id</th>\n",
       "      <th>order_status</th>\n",
       "      <th>order_approved_at</th>\n",
       "      <th>product_id</th>\n",
       "      <th>seller_id</th>\n",
       "      <th>price</th>\n",
       "      <th>freight_value</th>\n",
       "    </tr>\n",
       "  </thead>\n",
       "  <tbody>\n",
       "    <tr>\n",
       "      <th>0</th>\n",
       "      <td>e481f51cbdc54678b7cc49136f2d6af7</td>\n",
       "      <td>delivered</td>\n",
       "      <td>2017-10-02 11:07:15</td>\n",
       "      <td>87285b34884572647811a353c7ac498a</td>\n",
       "      <td>3504c0cb71d7fa48d967e0e4c94d59d9</td>\n",
       "      <td>29.99</td>\n",
       "      <td>8.72</td>\n",
       "    </tr>\n",
       "    <tr>\n",
       "      <th>1</th>\n",
       "      <td>53cdb2fc8bc7dce0b6741e2150273451</td>\n",
       "      <td>delivered</td>\n",
       "      <td>2018-07-26 03:24:27</td>\n",
       "      <td>595fac2a385ac33a80bd5114aec74eb8</td>\n",
       "      <td>289cdb325fb7e7f891c38608bf9e0962</td>\n",
       "      <td>118.70</td>\n",
       "      <td>22.76</td>\n",
       "    </tr>\n",
       "    <tr>\n",
       "      <th>2</th>\n",
       "      <td>47770eb9100c2d0c44946d9cf07ec65d</td>\n",
       "      <td>delivered</td>\n",
       "      <td>2018-08-08 08:55:23</td>\n",
       "      <td>aa4383b373c6aca5d8797843e5594415</td>\n",
       "      <td>4869f7a5dfa277a7dca6462dcf3b52b2</td>\n",
       "      <td>159.90</td>\n",
       "      <td>19.22</td>\n",
       "    </tr>\n",
       "    <tr>\n",
       "      <th>3</th>\n",
       "      <td>949d5b44dbf5de918fe9c16f97b45f8a</td>\n",
       "      <td>delivered</td>\n",
       "      <td>2017-11-18 19:45:59</td>\n",
       "      <td>d0b61bfb1de832b15ba9d266ca96e5b0</td>\n",
       "      <td>66922902710d126a0e7d26b0e3805106</td>\n",
       "      <td>45.00</td>\n",
       "      <td>27.20</td>\n",
       "    </tr>\n",
       "    <tr>\n",
       "      <th>4</th>\n",
       "      <td>ad21c59c0840e6cb83a9ceb5573f8159</td>\n",
       "      <td>delivered</td>\n",
       "      <td>2018-02-13 22:20:29</td>\n",
       "      <td>65266b2da20d04dbe00c5c2d3bb7859e</td>\n",
       "      <td>2c9e548be18521d1c43cde1c582c6de8</td>\n",
       "      <td>19.90</td>\n",
       "      <td>8.72</td>\n",
       "    </tr>\n",
       "  </tbody>\n",
       "</table>\n",
       "</div>"
      ],
      "text/plain": [
       "                           order_id order_status    order_approved_at  \\\n",
       "0  e481f51cbdc54678b7cc49136f2d6af7    delivered  2017-10-02 11:07:15   \n",
       "1  53cdb2fc8bc7dce0b6741e2150273451    delivered  2018-07-26 03:24:27   \n",
       "2  47770eb9100c2d0c44946d9cf07ec65d    delivered  2018-08-08 08:55:23   \n",
       "3  949d5b44dbf5de918fe9c16f97b45f8a    delivered  2017-11-18 19:45:59   \n",
       "4  ad21c59c0840e6cb83a9ceb5573f8159    delivered  2018-02-13 22:20:29   \n",
       "\n",
       "                         product_id                         seller_id   price  \\\n",
       "0  87285b34884572647811a353c7ac498a  3504c0cb71d7fa48d967e0e4c94d59d9   29.99   \n",
       "1  595fac2a385ac33a80bd5114aec74eb8  289cdb325fb7e7f891c38608bf9e0962  118.70   \n",
       "2  aa4383b373c6aca5d8797843e5594415  4869f7a5dfa277a7dca6462dcf3b52b2  159.90   \n",
       "3  d0b61bfb1de832b15ba9d266ca96e5b0  66922902710d126a0e7d26b0e3805106   45.00   \n",
       "4  65266b2da20d04dbe00c5c2d3bb7859e  2c9e548be18521d1c43cde1c582c6de8   19.90   \n",
       "\n",
       "   freight_value  \n",
       "0           8.72  \n",
       "1          22.76  \n",
       "2          19.22  \n",
       "3          27.20  \n",
       "4           8.72  "
      ]
     },
     "execution_count": 23,
     "metadata": {},
     "output_type": "execute_result"
    }
   ],
   "source": [
    "# Merge com Inner Join\n",
    "# Por Padrão se eu não especifica nada o merge sera feito com (inner join)\n",
    "\n",
    "query = pd.merge(orders[['order_id', 'order_status', 'order_approved_at']],\n",
    "                \n",
    "                 orders_items[['order_id', 'product_id', 'seller_id', 'price', 'freight_value']],\n",
    "                 on  ='order_id')\n",
    "\n",
    "# on = Atributo de Ligação\n",
    "# how = Tipo de Ligação\n",
    "\n",
    "query.head()"
   ]
  },
  {
   "cell_type": "code",
   "execution_count": 24,
   "id": "2b750236",
   "metadata": {
    "ExecuteTime": {
     "end_time": "2022-08-09T16:38:14.555891Z",
     "start_time": "2022-08-09T16:38:14.379119Z"
    }
   },
   "outputs": [
    {
     "data": {
      "text/html": [
       "<div>\n",
       "<style scoped>\n",
       "    .dataframe tbody tr th:only-of-type {\n",
       "        vertical-align: middle;\n",
       "    }\n",
       "\n",
       "    .dataframe tbody tr th {\n",
       "        vertical-align: top;\n",
       "    }\n",
       "\n",
       "    .dataframe thead th {\n",
       "        text-align: right;\n",
       "    }\n",
       "</style>\n",
       "<table border=\"1\" class=\"dataframe\">\n",
       "  <thead>\n",
       "    <tr style=\"text-align: right;\">\n",
       "      <th></th>\n",
       "      <th>order_id</th>\n",
       "      <th>order_status</th>\n",
       "      <th>order_approved_at</th>\n",
       "      <th>product_id</th>\n",
       "      <th>seller_id</th>\n",
       "      <th>price</th>\n",
       "      <th>freight_value</th>\n",
       "    </tr>\n",
       "  </thead>\n",
       "  <tbody>\n",
       "    <tr>\n",
       "      <th>0</th>\n",
       "      <td>e481f51cbdc54678b7cc49136f2d6af7</td>\n",
       "      <td>delivered</td>\n",
       "      <td>2017-10-02 11:07:15</td>\n",
       "      <td>87285b34884572647811a353c7ac498a</td>\n",
       "      <td>3504c0cb71d7fa48d967e0e4c94d59d9</td>\n",
       "      <td>29.99</td>\n",
       "      <td>8.72</td>\n",
       "    </tr>\n",
       "    <tr>\n",
       "      <th>1</th>\n",
       "      <td>53cdb2fc8bc7dce0b6741e2150273451</td>\n",
       "      <td>delivered</td>\n",
       "      <td>2018-07-26 03:24:27</td>\n",
       "      <td>595fac2a385ac33a80bd5114aec74eb8</td>\n",
       "      <td>289cdb325fb7e7f891c38608bf9e0962</td>\n",
       "      <td>118.70</td>\n",
       "      <td>22.76</td>\n",
       "    </tr>\n",
       "    <tr>\n",
       "      <th>2</th>\n",
       "      <td>47770eb9100c2d0c44946d9cf07ec65d</td>\n",
       "      <td>delivered</td>\n",
       "      <td>2018-08-08 08:55:23</td>\n",
       "      <td>aa4383b373c6aca5d8797843e5594415</td>\n",
       "      <td>4869f7a5dfa277a7dca6462dcf3b52b2</td>\n",
       "      <td>159.90</td>\n",
       "      <td>19.22</td>\n",
       "    </tr>\n",
       "    <tr>\n",
       "      <th>3</th>\n",
       "      <td>949d5b44dbf5de918fe9c16f97b45f8a</td>\n",
       "      <td>delivered</td>\n",
       "      <td>2017-11-18 19:45:59</td>\n",
       "      <td>d0b61bfb1de832b15ba9d266ca96e5b0</td>\n",
       "      <td>66922902710d126a0e7d26b0e3805106</td>\n",
       "      <td>45.00</td>\n",
       "      <td>27.20</td>\n",
       "    </tr>\n",
       "    <tr>\n",
       "      <th>4</th>\n",
       "      <td>ad21c59c0840e6cb83a9ceb5573f8159</td>\n",
       "      <td>delivered</td>\n",
       "      <td>2018-02-13 22:20:29</td>\n",
       "      <td>65266b2da20d04dbe00c5c2d3bb7859e</td>\n",
       "      <td>2c9e548be18521d1c43cde1c582c6de8</td>\n",
       "      <td>19.90</td>\n",
       "      <td>8.72</td>\n",
       "    </tr>\n",
       "  </tbody>\n",
       "</table>\n",
       "</div>"
      ],
      "text/plain": [
       "                           order_id order_status    order_approved_at  \\\n",
       "0  e481f51cbdc54678b7cc49136f2d6af7    delivered  2017-10-02 11:07:15   \n",
       "1  53cdb2fc8bc7dce0b6741e2150273451    delivered  2018-07-26 03:24:27   \n",
       "2  47770eb9100c2d0c44946d9cf07ec65d    delivered  2018-08-08 08:55:23   \n",
       "3  949d5b44dbf5de918fe9c16f97b45f8a    delivered  2017-11-18 19:45:59   \n",
       "4  ad21c59c0840e6cb83a9ceb5573f8159    delivered  2018-02-13 22:20:29   \n",
       "\n",
       "                         product_id                         seller_id   price  \\\n",
       "0  87285b34884572647811a353c7ac498a  3504c0cb71d7fa48d967e0e4c94d59d9   29.99   \n",
       "1  595fac2a385ac33a80bd5114aec74eb8  289cdb325fb7e7f891c38608bf9e0962  118.70   \n",
       "2  aa4383b373c6aca5d8797843e5594415  4869f7a5dfa277a7dca6462dcf3b52b2  159.90   \n",
       "3  d0b61bfb1de832b15ba9d266ca96e5b0  66922902710d126a0e7d26b0e3805106   45.00   \n",
       "4  65266b2da20d04dbe00c5c2d3bb7859e  2c9e548be18521d1c43cde1c582c6de8   19.90   \n",
       "\n",
       "   freight_value  \n",
       "0           8.72  \n",
       "1          22.76  \n",
       "2          19.22  \n",
       "3          27.20  \n",
       "4           8.72  "
      ]
     },
     "execution_count": 24,
     "metadata": {},
     "output_type": "execute_result"
    }
   ],
   "source": [
    "# Merge com Inner Join\n",
    "\n",
    "query = pd.merge(orders[['order_id', 'order_status', 'order_approved_at']],\n",
    "                \n",
    "                 orders_items[['order_id', 'product_id', 'seller_id', 'price', 'freight_value']],\n",
    "                 on  ='order_id',\n",
    "                 how = 'inner')\n",
    "\n",
    "# on = Atributo de Ligação\n",
    "# how = Tipo de Ligação\n",
    "\n",
    "query.head()"
   ]
  },
  {
   "cell_type": "code",
   "execution_count": 25,
   "id": "4d58397f",
   "metadata": {
    "ExecuteTime": {
     "end_time": "2022-08-09T16:38:25.143254Z",
     "start_time": "2022-08-09T16:38:24.985670Z"
    }
   },
   "outputs": [
    {
     "data": {
      "text/plain": [
       "order_id              0\n",
       "order_status          0\n",
       "order_approved_at    15\n",
       "product_id            0\n",
       "seller_id             0\n",
       "price                 0\n",
       "freight_value         0\n",
       "dtype: int64"
      ]
     },
     "execution_count": 25,
     "metadata": {},
     "output_type": "execute_result"
    }
   ],
   "source": [
    "# Analisando se existe valores nulos ausentes\n",
    "query.isnull().sum()"
   ]
  },
  {
   "cell_type": "markdown",
   "id": "e0c29624",
   "metadata": {},
   "source": [
    "### Left Join"
   ]
  },
  {
   "cell_type": "markdown",
   "id": "2cac4bc5",
   "metadata": {},
   "source": [
    "**Consulta todos os pedidos independente se contém itens associados - Left Join**"
   ]
  },
  {
   "cell_type": "code",
   "execution_count": 26,
   "id": "a274e99d",
   "metadata": {
    "ExecuteTime": {
     "end_time": "2022-08-09T16:38:38.420444Z",
     "start_time": "2022-08-09T16:38:38.196465Z"
    }
   },
   "outputs": [
    {
     "data": {
      "text/html": [
       "<div>\n",
       "<style scoped>\n",
       "    .dataframe tbody tr th:only-of-type {\n",
       "        vertical-align: middle;\n",
       "    }\n",
       "\n",
       "    .dataframe tbody tr th {\n",
       "        vertical-align: top;\n",
       "    }\n",
       "\n",
       "    .dataframe thead th {\n",
       "        text-align: right;\n",
       "    }\n",
       "</style>\n",
       "<table border=\"1\" class=\"dataframe\">\n",
       "  <thead>\n",
       "    <tr style=\"text-align: right;\">\n",
       "      <th></th>\n",
       "      <th>order_id</th>\n",
       "      <th>order_status</th>\n",
       "      <th>order_approved_at</th>\n",
       "      <th>product_id</th>\n",
       "      <th>seller_id</th>\n",
       "      <th>price</th>\n",
       "      <th>freight_value</th>\n",
       "    </tr>\n",
       "  </thead>\n",
       "  <tbody>\n",
       "    <tr>\n",
       "      <th>0</th>\n",
       "      <td>e481f51cbdc54678b7cc49136f2d6af7</td>\n",
       "      <td>delivered</td>\n",
       "      <td>2017-10-02 11:07:15</td>\n",
       "      <td>87285b34884572647811a353c7ac498a</td>\n",
       "      <td>3504c0cb71d7fa48d967e0e4c94d59d9</td>\n",
       "      <td>29.99</td>\n",
       "      <td>8.72</td>\n",
       "    </tr>\n",
       "    <tr>\n",
       "      <th>1</th>\n",
       "      <td>53cdb2fc8bc7dce0b6741e2150273451</td>\n",
       "      <td>delivered</td>\n",
       "      <td>2018-07-26 03:24:27</td>\n",
       "      <td>595fac2a385ac33a80bd5114aec74eb8</td>\n",
       "      <td>289cdb325fb7e7f891c38608bf9e0962</td>\n",
       "      <td>118.70</td>\n",
       "      <td>22.76</td>\n",
       "    </tr>\n",
       "    <tr>\n",
       "      <th>2</th>\n",
       "      <td>47770eb9100c2d0c44946d9cf07ec65d</td>\n",
       "      <td>delivered</td>\n",
       "      <td>2018-08-08 08:55:23</td>\n",
       "      <td>aa4383b373c6aca5d8797843e5594415</td>\n",
       "      <td>4869f7a5dfa277a7dca6462dcf3b52b2</td>\n",
       "      <td>159.90</td>\n",
       "      <td>19.22</td>\n",
       "    </tr>\n",
       "    <tr>\n",
       "      <th>3</th>\n",
       "      <td>949d5b44dbf5de918fe9c16f97b45f8a</td>\n",
       "      <td>delivered</td>\n",
       "      <td>2017-11-18 19:45:59</td>\n",
       "      <td>d0b61bfb1de832b15ba9d266ca96e5b0</td>\n",
       "      <td>66922902710d126a0e7d26b0e3805106</td>\n",
       "      <td>45.00</td>\n",
       "      <td>27.20</td>\n",
       "    </tr>\n",
       "    <tr>\n",
       "      <th>4</th>\n",
       "      <td>ad21c59c0840e6cb83a9ceb5573f8159</td>\n",
       "      <td>delivered</td>\n",
       "      <td>2018-02-13 22:20:29</td>\n",
       "      <td>65266b2da20d04dbe00c5c2d3bb7859e</td>\n",
       "      <td>2c9e548be18521d1c43cde1c582c6de8</td>\n",
       "      <td>19.90</td>\n",
       "      <td>8.72</td>\n",
       "    </tr>\n",
       "  </tbody>\n",
       "</table>\n",
       "</div>"
      ],
      "text/plain": [
       "                           order_id order_status    order_approved_at  \\\n",
       "0  e481f51cbdc54678b7cc49136f2d6af7    delivered  2017-10-02 11:07:15   \n",
       "1  53cdb2fc8bc7dce0b6741e2150273451    delivered  2018-07-26 03:24:27   \n",
       "2  47770eb9100c2d0c44946d9cf07ec65d    delivered  2018-08-08 08:55:23   \n",
       "3  949d5b44dbf5de918fe9c16f97b45f8a    delivered  2017-11-18 19:45:59   \n",
       "4  ad21c59c0840e6cb83a9ceb5573f8159    delivered  2018-02-13 22:20:29   \n",
       "\n",
       "                         product_id                         seller_id   price  \\\n",
       "0  87285b34884572647811a353c7ac498a  3504c0cb71d7fa48d967e0e4c94d59d9   29.99   \n",
       "1  595fac2a385ac33a80bd5114aec74eb8  289cdb325fb7e7f891c38608bf9e0962  118.70   \n",
       "2  aa4383b373c6aca5d8797843e5594415  4869f7a5dfa277a7dca6462dcf3b52b2  159.90   \n",
       "3  d0b61bfb1de832b15ba9d266ca96e5b0  66922902710d126a0e7d26b0e3805106   45.00   \n",
       "4  65266b2da20d04dbe00c5c2d3bb7859e  2c9e548be18521d1c43cde1c582c6de8   19.90   \n",
       "\n",
       "   freight_value  \n",
       "0           8.72  \n",
       "1          22.76  \n",
       "2          19.22  \n",
       "3          27.20  \n",
       "4           8.72  "
      ]
     },
     "execution_count": 26,
     "metadata": {},
     "output_type": "execute_result"
    }
   ],
   "source": [
    "# Merge com left join\n",
    "\n",
    "query = pd.merge(orders[['order_id', 'order_status', 'order_approved_at']],\n",
    "                \n",
    "                 orders_items[['order_id', 'product_id', 'seller_id', 'price', 'freight_value']],\n",
    "                 on  ='order_id',\n",
    "                 how = 'left')\n",
    "\n",
    "# on = Atributo de Ligação\n",
    "# how = Tipo de Ligação\n",
    "\n",
    "query.head()"
   ]
  },
  {
   "cell_type": "code",
   "execution_count": 27,
   "id": "22a02086",
   "metadata": {
    "ExecuteTime": {
     "end_time": "2022-08-09T16:38:58.453624Z",
     "start_time": "2022-08-09T16:38:58.313483Z"
    }
   },
   "outputs": [
    {
     "data": {
      "text/plain": [
       "order_id               0\n",
       "order_status           0\n",
       "order_approved_at    161\n",
       "product_id           775\n",
       "seller_id            775\n",
       "price                775\n",
       "freight_value        775\n",
       "dtype: int64"
      ]
     },
     "execution_count": 27,
     "metadata": {},
     "output_type": "execute_result"
    }
   ],
   "source": [
    "# Analisando se existe valores Ausentes ou nulos\n",
    "query.isnull().sum()"
   ]
  },
  {
   "cell_type": "markdown",
   "id": "66ad4e31",
   "metadata": {},
   "source": [
    "### Right Join"
   ]
  },
  {
   "cell_type": "markdown",
   "id": "f35cc740",
   "metadata": {},
   "source": [
    "**Consulta todos itens pedidos independente se contém pedidos associados - Right Join**"
   ]
  },
  {
   "cell_type": "code",
   "execution_count": 28,
   "id": "7fe66e17",
   "metadata": {
    "ExecuteTime": {
     "end_time": "2022-08-09T16:39:54.112725Z",
     "start_time": "2022-08-09T16:39:53.915378Z"
    }
   },
   "outputs": [
    {
     "data": {
      "text/html": [
       "<div>\n",
       "<style scoped>\n",
       "    .dataframe tbody tr th:only-of-type {\n",
       "        vertical-align: middle;\n",
       "    }\n",
       "\n",
       "    .dataframe tbody tr th {\n",
       "        vertical-align: top;\n",
       "    }\n",
       "\n",
       "    .dataframe thead th {\n",
       "        text-align: right;\n",
       "    }\n",
       "</style>\n",
       "<table border=\"1\" class=\"dataframe\">\n",
       "  <thead>\n",
       "    <tr style=\"text-align: right;\">\n",
       "      <th></th>\n",
       "      <th>order_id</th>\n",
       "      <th>order_status</th>\n",
       "      <th>order_approved_at</th>\n",
       "      <th>product_id</th>\n",
       "      <th>seller_id</th>\n",
       "      <th>price</th>\n",
       "      <th>freight_value</th>\n",
       "    </tr>\n",
       "  </thead>\n",
       "  <tbody>\n",
       "    <tr>\n",
       "      <th>0</th>\n",
       "      <td>00010242fe8c5a6d1ba2dd792cb16214</td>\n",
       "      <td>delivered</td>\n",
       "      <td>2017-09-13 09:45:35</td>\n",
       "      <td>4244733e06e7ecb4970a6e2683c13e61</td>\n",
       "      <td>48436dade18ac8b2bce089ec2a041202</td>\n",
       "      <td>58.90</td>\n",
       "      <td>13.29</td>\n",
       "    </tr>\n",
       "    <tr>\n",
       "      <th>1</th>\n",
       "      <td>00018f77f2f0320c557190d7a144bdd3</td>\n",
       "      <td>delivered</td>\n",
       "      <td>2017-04-26 11:05:13</td>\n",
       "      <td>e5f2d52b802189ee658865ca93d83a8f</td>\n",
       "      <td>dd7ddc04e1b6c2c614352b383efe2d36</td>\n",
       "      <td>239.90</td>\n",
       "      <td>19.93</td>\n",
       "    </tr>\n",
       "    <tr>\n",
       "      <th>2</th>\n",
       "      <td>000229ec398224ef6ca0657da4fc703e</td>\n",
       "      <td>delivered</td>\n",
       "      <td>2018-01-14 14:48:30</td>\n",
       "      <td>c777355d18b72b67abbeef9df44fd0fd</td>\n",
       "      <td>5b51032eddd242adc84c38acab88f23d</td>\n",
       "      <td>199.00</td>\n",
       "      <td>17.87</td>\n",
       "    </tr>\n",
       "    <tr>\n",
       "      <th>3</th>\n",
       "      <td>00024acbcdf0a6daa1e931b038114c75</td>\n",
       "      <td>delivered</td>\n",
       "      <td>2018-08-08 10:10:18</td>\n",
       "      <td>7634da152a4610f1595efa32f14722fc</td>\n",
       "      <td>9d7a1d34a5052409006425275ba1c2b4</td>\n",
       "      <td>12.99</td>\n",
       "      <td>12.79</td>\n",
       "    </tr>\n",
       "    <tr>\n",
       "      <th>4</th>\n",
       "      <td>00042b26cf59d7ce69dfabb4e55b4fd9</td>\n",
       "      <td>delivered</td>\n",
       "      <td>2017-02-04 14:10:13</td>\n",
       "      <td>ac6c3623068f30de03045865e4e10089</td>\n",
       "      <td>df560393f3a51e74553ab94004ba5c87</td>\n",
       "      <td>199.90</td>\n",
       "      <td>18.14</td>\n",
       "    </tr>\n",
       "  </tbody>\n",
       "</table>\n",
       "</div>"
      ],
      "text/plain": [
       "                           order_id order_status    order_approved_at  \\\n",
       "0  00010242fe8c5a6d1ba2dd792cb16214    delivered  2017-09-13 09:45:35   \n",
       "1  00018f77f2f0320c557190d7a144bdd3    delivered  2017-04-26 11:05:13   \n",
       "2  000229ec398224ef6ca0657da4fc703e    delivered  2018-01-14 14:48:30   \n",
       "3  00024acbcdf0a6daa1e931b038114c75    delivered  2018-08-08 10:10:18   \n",
       "4  00042b26cf59d7ce69dfabb4e55b4fd9    delivered  2017-02-04 14:10:13   \n",
       "\n",
       "                         product_id                         seller_id   price  \\\n",
       "0  4244733e06e7ecb4970a6e2683c13e61  48436dade18ac8b2bce089ec2a041202   58.90   \n",
       "1  e5f2d52b802189ee658865ca93d83a8f  dd7ddc04e1b6c2c614352b383efe2d36  239.90   \n",
       "2  c777355d18b72b67abbeef9df44fd0fd  5b51032eddd242adc84c38acab88f23d  199.00   \n",
       "3  7634da152a4610f1595efa32f14722fc  9d7a1d34a5052409006425275ba1c2b4   12.99   \n",
       "4  ac6c3623068f30de03045865e4e10089  df560393f3a51e74553ab94004ba5c87  199.90   \n",
       "\n",
       "   freight_value  \n",
       "0          13.29  \n",
       "1          19.93  \n",
       "2          17.87  \n",
       "3          12.79  \n",
       "4          18.14  "
      ]
     },
     "execution_count": 28,
     "metadata": {},
     "output_type": "execute_result"
    }
   ],
   "source": [
    "# Merge com Right Join\n",
    "\n",
    "query = pd.merge(orders[['order_id', 'order_status', 'order_approved_at']],\n",
    "                \n",
    "                 orders_items[['order_id', 'product_id', 'seller_id', 'price', 'freight_value']],\n",
    "                 on  ='order_id',\n",
    "                 how = 'right')\n",
    "\n",
    "# on = Atributo de Ligação\n",
    "# how = Tipo de Ligação\n",
    "\n",
    "query.head()"
   ]
  },
  {
   "cell_type": "code",
   "execution_count": 29,
   "id": "a3a7a154",
   "metadata": {
    "ExecuteTime": {
     "end_time": "2022-08-09T16:40:02.816249Z",
     "start_time": "2022-08-09T16:40:02.642170Z"
    }
   },
   "outputs": [
    {
     "data": {
      "text/plain": [
       "order_id              0\n",
       "order_status          0\n",
       "order_approved_at    15\n",
       "product_id            0\n",
       "seller_id             0\n",
       "price                 0\n",
       "freight_value         0\n",
       "dtype: int64"
      ]
     },
     "execution_count": 29,
     "metadata": {},
     "output_type": "execute_result"
    }
   ],
   "source": [
    "# Analisando Dados nulos e faltantes\n",
    "query.isnull().sum()"
   ]
  },
  {
   "cell_type": "markdown",
   "id": "047dadd6",
   "metadata": {},
   "source": [
    "### Outer Join\n",
    "\n",
    "**Consulta todos os registros nos dois DataFrames - Outer Join**"
   ]
  },
  {
   "cell_type": "code",
   "execution_count": 30,
   "id": "e8bcbd78",
   "metadata": {
    "ExecuteTime": {
     "end_time": "2022-08-09T16:40:31.545092Z",
     "start_time": "2022-08-09T16:40:31.371658Z"
    }
   },
   "outputs": [
    {
     "data": {
      "text/html": [
       "<div>\n",
       "<style scoped>\n",
       "    .dataframe tbody tr th:only-of-type {\n",
       "        vertical-align: middle;\n",
       "    }\n",
       "\n",
       "    .dataframe tbody tr th {\n",
       "        vertical-align: top;\n",
       "    }\n",
       "\n",
       "    .dataframe thead th {\n",
       "        text-align: right;\n",
       "    }\n",
       "</style>\n",
       "<table border=\"1\" class=\"dataframe\">\n",
       "  <thead>\n",
       "    <tr style=\"text-align: right;\">\n",
       "      <th></th>\n",
       "      <th>order_id</th>\n",
       "      <th>order_status</th>\n",
       "      <th>order_approved_at</th>\n",
       "      <th>product_id</th>\n",
       "      <th>seller_id</th>\n",
       "      <th>price</th>\n",
       "      <th>freight_value</th>\n",
       "    </tr>\n",
       "  </thead>\n",
       "  <tbody>\n",
       "    <tr>\n",
       "      <th>0</th>\n",
       "      <td>e481f51cbdc54678b7cc49136f2d6af7</td>\n",
       "      <td>delivered</td>\n",
       "      <td>2017-10-02 11:07:15</td>\n",
       "      <td>87285b34884572647811a353c7ac498a</td>\n",
       "      <td>3504c0cb71d7fa48d967e0e4c94d59d9</td>\n",
       "      <td>29.99</td>\n",
       "      <td>8.72</td>\n",
       "    </tr>\n",
       "    <tr>\n",
       "      <th>1</th>\n",
       "      <td>53cdb2fc8bc7dce0b6741e2150273451</td>\n",
       "      <td>delivered</td>\n",
       "      <td>2018-07-26 03:24:27</td>\n",
       "      <td>595fac2a385ac33a80bd5114aec74eb8</td>\n",
       "      <td>289cdb325fb7e7f891c38608bf9e0962</td>\n",
       "      <td>118.70</td>\n",
       "      <td>22.76</td>\n",
       "    </tr>\n",
       "    <tr>\n",
       "      <th>2</th>\n",
       "      <td>47770eb9100c2d0c44946d9cf07ec65d</td>\n",
       "      <td>delivered</td>\n",
       "      <td>2018-08-08 08:55:23</td>\n",
       "      <td>aa4383b373c6aca5d8797843e5594415</td>\n",
       "      <td>4869f7a5dfa277a7dca6462dcf3b52b2</td>\n",
       "      <td>159.90</td>\n",
       "      <td>19.22</td>\n",
       "    </tr>\n",
       "    <tr>\n",
       "      <th>3</th>\n",
       "      <td>949d5b44dbf5de918fe9c16f97b45f8a</td>\n",
       "      <td>delivered</td>\n",
       "      <td>2017-11-18 19:45:59</td>\n",
       "      <td>d0b61bfb1de832b15ba9d266ca96e5b0</td>\n",
       "      <td>66922902710d126a0e7d26b0e3805106</td>\n",
       "      <td>45.00</td>\n",
       "      <td>27.20</td>\n",
       "    </tr>\n",
       "    <tr>\n",
       "      <th>4</th>\n",
       "      <td>ad21c59c0840e6cb83a9ceb5573f8159</td>\n",
       "      <td>delivered</td>\n",
       "      <td>2018-02-13 22:20:29</td>\n",
       "      <td>65266b2da20d04dbe00c5c2d3bb7859e</td>\n",
       "      <td>2c9e548be18521d1c43cde1c582c6de8</td>\n",
       "      <td>19.90</td>\n",
       "      <td>8.72</td>\n",
       "    </tr>\n",
       "  </tbody>\n",
       "</table>\n",
       "</div>"
      ],
      "text/plain": [
       "                           order_id order_status    order_approved_at  \\\n",
       "0  e481f51cbdc54678b7cc49136f2d6af7    delivered  2017-10-02 11:07:15   \n",
       "1  53cdb2fc8bc7dce0b6741e2150273451    delivered  2018-07-26 03:24:27   \n",
       "2  47770eb9100c2d0c44946d9cf07ec65d    delivered  2018-08-08 08:55:23   \n",
       "3  949d5b44dbf5de918fe9c16f97b45f8a    delivered  2017-11-18 19:45:59   \n",
       "4  ad21c59c0840e6cb83a9ceb5573f8159    delivered  2018-02-13 22:20:29   \n",
       "\n",
       "                         product_id                         seller_id   price  \\\n",
       "0  87285b34884572647811a353c7ac498a  3504c0cb71d7fa48d967e0e4c94d59d9   29.99   \n",
       "1  595fac2a385ac33a80bd5114aec74eb8  289cdb325fb7e7f891c38608bf9e0962  118.70   \n",
       "2  aa4383b373c6aca5d8797843e5594415  4869f7a5dfa277a7dca6462dcf3b52b2  159.90   \n",
       "3  d0b61bfb1de832b15ba9d266ca96e5b0  66922902710d126a0e7d26b0e3805106   45.00   \n",
       "4  65266b2da20d04dbe00c5c2d3bb7859e  2c9e548be18521d1c43cde1c582c6de8   19.90   \n",
       "\n",
       "   freight_value  \n",
       "0           8.72  \n",
       "1          22.76  \n",
       "2          19.22  \n",
       "3          27.20  \n",
       "4           8.72  "
      ]
     },
     "execution_count": 30,
     "metadata": {},
     "output_type": "execute_result"
    }
   ],
   "source": [
    "# Merge de Dados com Outer Join\n",
    "\n",
    "query = pd.merge(orders[['order_id', 'order_status', 'order_approved_at']],\n",
    "                \n",
    "                 orders_items[['order_id', 'product_id', 'seller_id', 'price', 'freight_value']],\n",
    "                 on  ='order_id',\n",
    "                 how = 'outer')\n",
    "\n",
    "# on = Atributo de Ligação\n",
    "# how = Tipo de Ligação\n",
    "\n",
    "query.head()"
   ]
  },
  {
   "cell_type": "code",
   "execution_count": 31,
   "id": "7d70e54d",
   "metadata": {
    "ExecuteTime": {
     "end_time": "2022-08-09T16:40:39.774074Z",
     "start_time": "2022-08-09T16:40:39.618961Z"
    }
   },
   "outputs": [
    {
     "data": {
      "text/plain": [
       "order_id               0\n",
       "order_status           0\n",
       "order_approved_at    161\n",
       "product_id           775\n",
       "seller_id            775\n",
       "price                775\n",
       "freight_value        775\n",
       "dtype: int64"
      ]
     },
     "execution_count": 31,
     "metadata": {},
     "output_type": "execute_result"
    }
   ],
   "source": [
    "# Analisando Dados Nulos \n",
    "query.isnull().sum()"
   ]
  },
  {
   "cell_type": "code",
   "execution_count": null,
   "id": "8be977df",
   "metadata": {},
   "outputs": [],
   "source": []
  },
  {
   "cell_type": "code",
   "execution_count": null,
   "id": "9767cdd0",
   "metadata": {},
   "outputs": [],
   "source": []
  }
 ],
 "metadata": {
  "kernelspec": {
   "display_name": "Python 3.9.12 ('base')",
   "language": "python",
   "name": "python3"
  },
  "language_info": {
   "codemirror_mode": {
    "name": "ipython",
    "version": 3
   },
   "file_extension": ".py",
   "mimetype": "text/x-python",
   "name": "python",
   "nbconvert_exporter": "python",
   "pygments_lexer": "ipython3",
   "version": "3.9.12"
  },
  "vscode": {
   "interpreter": {
    "hash": "e03b612d84ba21ce95ed447e81b3062e1eb99b56c6d885cdab4aaa12f1b8e240"
   }
  }
 },
 "nbformat": 4,
 "nbformat_minor": 5
}
