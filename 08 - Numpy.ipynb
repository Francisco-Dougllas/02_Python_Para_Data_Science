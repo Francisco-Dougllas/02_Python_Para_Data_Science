{
 "cells": [
  {
   "cell_type": "markdown",
   "id": "13aaa187",
   "metadata": {},
   "source": [
    "# Python Para Analise de Dados - Numpy"
   ]
  },
  {
   "cell_type": "code",
   "execution_count": 1,
   "id": "23e9d846",
   "metadata": {
    "ExecuteTime": {
     "end_time": "2022-08-30T09:55:11.640206Z",
     "start_time": "2022-08-30T09:55:10.031148Z"
    }
   },
   "outputs": [],
   "source": [
    "# Importando a Bibliotecas\n",
    "import numpy as np\n",
    "import pandas as pd"
   ]
  },
  {
   "cell_type": "code",
   "execution_count": 2,
   "id": "7db38b33",
   "metadata": {
    "ExecuteTime": {
     "end_time": "2022-08-30T09:55:11.678363Z",
     "start_time": "2022-08-30T09:55:11.645194Z"
    }
   },
   "outputs": [
    {
     "data": {
      "text/plain": [
       "array([1, 2, 3, 4, 5])"
      ]
     },
     "execution_count": 2,
     "metadata": {},
     "output_type": "execute_result"
    }
   ],
   "source": [
    "# Criando um array de 1 dimensão\n",
    "\n",
    "one_dim = np.array([1, 2, 3, 4, 5])\n",
    "one_dim"
   ]
  },
  {
   "cell_type": "code",
   "execution_count": 3,
   "id": "a7480c49",
   "metadata": {
    "ExecuteTime": {
     "end_time": "2022-08-30T09:55:11.716162Z",
     "start_time": "2022-08-30T09:55:11.691875Z"
    }
   },
   "outputs": [
    {
     "data": {
      "text/plain": [
       "numpy.ndarray"
      ]
     },
     "execution_count": 3,
     "metadata": {},
     "output_type": "execute_result"
    }
   ],
   "source": [
    "# tipo\n",
    "\n",
    "type(one_dim)"
   ]
  },
  {
   "cell_type": "code",
   "execution_count": 4,
   "id": "88ba1d60",
   "metadata": {
    "ExecuteTime": {
     "end_time": "2022-08-30T09:55:11.740354Z",
     "start_time": "2022-08-30T09:55:11.721376Z"
    }
   },
   "outputs": [
    {
     "name": "stdout",
     "output_type": "stream",
     "text": [
      "[1 2 3 4 5]\n"
     ]
    }
   ],
   "source": [
    "# Imprimindo o Array\n",
    "\n",
    "print(one_dim)"
   ]
  },
  {
   "cell_type": "code",
   "execution_count": 5,
   "id": "cad9f50a",
   "metadata": {
    "ExecuteTime": {
     "end_time": "2022-08-30T09:55:11.766560Z",
     "start_time": "2022-08-30T09:55:11.748965Z"
    }
   },
   "outputs": [
    {
     "data": {
      "text/plain": [
       "array([[1, 2, 3],\n",
       "       [4, 5, 6]])"
      ]
     },
     "execution_count": 5,
     "metadata": {},
     "output_type": "execute_result"
    }
   ],
   "source": [
    "# Criando um array de 2 dimensoes\n",
    "\n",
    "two_dim = np.array([(1, 2, 3), (4, 5, 6)])\n",
    "two_dim"
   ]
  },
  {
   "cell_type": "code",
   "execution_count": 6,
   "id": "50d33c74",
   "metadata": {
    "ExecuteTime": {
     "end_time": "2022-08-30T09:55:11.789143Z",
     "start_time": "2022-08-30T09:55:11.772595Z"
    }
   },
   "outputs": [
    {
     "name": "stdout",
     "output_type": "stream",
     "text": [
      "[[1 2 3]\n",
      " [4 5 6]]\n"
     ]
    }
   ],
   "source": [
    "# Imprimindo o array\n",
    "\n",
    "print(two_dim)"
   ]
  },
  {
   "cell_type": "code",
   "execution_count": 7,
   "id": "7487538e",
   "metadata": {
    "ExecuteTime": {
     "end_time": "2022-08-30T09:55:11.823609Z",
     "start_time": "2022-08-30T09:55:11.799415Z"
    }
   },
   "outputs": [
    {
     "data": {
      "text/plain": [
       "array([[0.04775134, 0.473314  ],\n",
       "       [0.87011661, 0.09401268],\n",
       "       [0.50945044, 0.72924909],\n",
       "       [0.3123614 , 0.93096327],\n",
       "       [0.93420564, 0.1278368 ]])"
      ]
     },
     "execution_count": 7,
     "metadata": {},
     "output_type": "execute_result"
    }
   ],
   "source": [
    "# Cria um array de numeros aleatorios\n",
    "# Um array de 5 linhas e duas dimensoes\n",
    "\n",
    "np.random.random((5, 2))"
   ]
  },
  {
   "cell_type": "code",
   "execution_count": 8,
   "id": "f22ee165",
   "metadata": {
    "ExecuteTime": {
     "end_time": "2022-08-30T09:55:11.860400Z",
     "start_time": "2022-08-30T09:55:11.828957Z"
    }
   },
   "outputs": [
    {
     "data": {
      "text/plain": [
       "array([10, 15, 20, 25, 30, 35, 40, 45])"
      ]
     },
     "execution_count": 8,
     "metadata": {},
     "output_type": "execute_result"
    }
   ],
   "source": [
    "# Cria um array com valores esparsos iniciando com o valor 10, menor que 50 e incrementando de 5 em 5\n",
    "\n",
    "np.arange(10, 50, 5)"
   ]
  },
  {
   "cell_type": "code",
   "execution_count": 9,
   "id": "783b39f0",
   "metadata": {
    "ExecuteTime": {
     "end_time": "2022-08-30T09:55:11.898349Z",
     "start_time": "2022-08-30T09:55:11.877200Z"
    }
   },
   "outputs": [
    {
     "data": {
      "text/plain": [
       "array([0.  , 0.25, 0.5 , 0.75, 1.  , 1.25, 1.5 , 1.75, 2.  ])"
      ]
     },
     "execution_count": 9,
     "metadata": {},
     "output_type": "execute_result"
    }
   ],
   "source": [
    "# Cria um array linear de 0 e 2 de no maximo 9 elementos\n",
    "\n",
    "np.linspace(0, 2, 9)"
   ]
  },
  {
   "cell_type": "code",
   "execution_count": 10,
   "id": "6da825ad",
   "metadata": {
    "ExecuteTime": {
     "end_time": "2022-08-30T09:55:11.926117Z",
     "start_time": "2022-08-30T09:55:11.903472Z"
    }
   },
   "outputs": [
    {
     "data": {
      "text/plain": [
       "array([[0., 0., 0., 0.],\n",
       "       [0., 0., 0., 0.],\n",
       "       [0., 0., 0., 0.]])"
      ]
     },
     "execution_count": 10,
     "metadata": {},
     "output_type": "execute_result"
    }
   ],
   "source": [
    "# Cria um array de valores zero\n",
    "# Cria um array com 3 linhas e 4 dimensoes\n",
    "\n",
    "np.zeros((3, 4))"
   ]
  },
  {
   "cell_type": "markdown",
   "id": "e8df9ba0",
   "metadata": {},
   "source": [
    "# Numpy Arrays Vs Listas\n",
    "\n",
    "- Arrays Numpy permitem fazermos operações em **arrays inteiros** de forma rápida.\n",
    "- Listas não permitem operações em todos os elementos da lista.\n",
    "- Para operações em todos os elementos é preciso interar sobre toda a lista.\n",
    "- Listas em Python armazenam diferentes tipos de objetos\n",
    "- Arrays Numpy considera todos os elementos de tipos distintos como strings"
   ]
  },
  {
   "cell_type": "code",
   "execution_count": 11,
   "id": "1c074de4",
   "metadata": {
    "ExecuteTime": {
     "end_time": "2022-08-30T09:55:11.951001Z",
     "start_time": "2022-08-30T09:55:11.934522Z"
    }
   },
   "outputs": [
    {
     "data": {
      "text/plain": [
       "[1, 2, 3]"
      ]
     },
     "execution_count": 11,
     "metadata": {},
     "output_type": "execute_result"
    }
   ],
   "source": [
    "# Criando uma lista em Python\n",
    "\n",
    "lista = [1, 2, 3]\n",
    "lista"
   ]
  },
  {
   "cell_type": "code",
   "execution_count": 12,
   "id": "113ba00a",
   "metadata": {
    "ExecuteTime": {
     "end_time": "2022-08-30T09:55:11.978170Z",
     "start_time": "2022-08-30T09:55:11.957566Z"
    }
   },
   "outputs": [
    {
     "data": {
      "text/plain": [
       "[1, 2, 3, 1, 2, 3]"
      ]
     },
     "execution_count": 12,
     "metadata": {},
     "output_type": "execute_result"
    }
   ],
   "source": [
    "# Multiplicar valores da lista por 2\n",
    "\n",
    "lista * 2"
   ]
  },
  {
   "cell_type": "code",
   "execution_count": 13,
   "id": "aed5a995",
   "metadata": {
    "ExecuteTime": {
     "end_time": "2022-08-30T09:55:12.001915Z",
     "start_time": "2022-08-30T09:55:11.982482Z"
    }
   },
   "outputs": [
    {
     "data": {
      "text/plain": [
       "array([1, 2, 3])"
      ]
     },
     "execution_count": 13,
     "metadata": {},
     "output_type": "execute_result"
    }
   ],
   "source": [
    "# Transforme a variavel lista em um array numpy\n",
    "\n",
    "lista = np.array(lista)\n",
    "lista"
   ]
  },
  {
   "cell_type": "code",
   "execution_count": 14,
   "id": "d66fcdb1",
   "metadata": {
    "ExecuteTime": {
     "end_time": "2022-08-30T09:55:12.023392Z",
     "start_time": "2022-08-30T09:55:12.008088Z"
    }
   },
   "outputs": [
    {
     "data": {
      "text/plain": [
       "array([2, 4, 6])"
      ]
     },
     "execution_count": 14,
     "metadata": {},
     "output_type": "execute_result"
    }
   ],
   "source": [
    "# Multiplicando cada elemento por 2\n",
    "\n",
    "lista * 2"
   ]
  },
  {
   "cell_type": "code",
   "execution_count": 15,
   "id": "6fbde357",
   "metadata": {
    "ExecuteTime": {
     "end_time": "2022-08-30T09:55:12.049575Z",
     "start_time": "2022-08-30T09:55:12.034304Z"
    }
   },
   "outputs": [],
   "source": [
    "# Calcular IMC de pessoas\n",
    "\n",
    "pesos = [67, 81, 120, 90]\n",
    "altura = [1.68, 1.70, 1.74, 1.86]"
   ]
  },
  {
   "cell_type": "code",
   "execution_count": 16,
   "id": "b1a9fa4c",
   "metadata": {
    "ExecuteTime": {
     "end_time": "2022-08-30T09:55:13.069281Z",
     "start_time": "2022-08-30T09:55:12.054914Z"
    }
   },
   "outputs": [
    {
     "ename": "TypeError",
     "evalue": "unsupported operand type(s) for ** or pow(): 'list' and 'int'",
     "output_type": "error",
     "traceback": [
      "\u001b[1;31m---------------------------------------------------------------------------\u001b[0m",
      "\u001b[1;31mTypeError\u001b[0m                                 Traceback (most recent call last)",
      "Input \u001b[1;32mIn [16]\u001b[0m, in \u001b[0;36m<cell line: 3>\u001b[1;34m()\u001b[0m\n\u001b[0;32m      1\u001b[0m \u001b[38;5;66;03m# Faz o calculo usando lista\u001b[39;00m\n\u001b[1;32m----> 3\u001b[0m pesos \u001b[38;5;241m/\u001b[39m \u001b[43maltura\u001b[49m\u001b[43m \u001b[49m\u001b[38;5;241;43m*\u001b[39;49m\u001b[38;5;241;43m*\u001b[39;49m\u001b[43m \u001b[49m\u001b[38;5;241;43m2\u001b[39;49m\n",
      "\u001b[1;31mTypeError\u001b[0m: unsupported operand type(s) for ** or pow(): 'list' and 'int'"
     ]
    }
   ],
   "source": [
    "# Faz o calculo usando lista\n",
    "\n",
    "pesos / altura ** 2 # Dara erro pois listas nao sao iteraveis, para isso deverei usa o for"
   ]
  },
  {
   "cell_type": "code",
   "execution_count": 17,
   "id": "86a80daa",
   "metadata": {
    "ExecuteTime": {
     "end_time": "2022-08-30T09:55:25.735301Z",
     "start_time": "2022-08-30T09:55:25.719867Z"
    }
   },
   "outputs": [],
   "source": [
    "# Transformando isso em array numpy\n",
    "\n",
    "pesos = np.array(pesos)\n",
    "altura = np.array(altura)"
   ]
  },
  {
   "cell_type": "code",
   "execution_count": 18,
   "id": "eee2052b",
   "metadata": {
    "ExecuteTime": {
     "end_time": "2022-08-30T09:55:25.798680Z",
     "start_time": "2022-08-30T09:55:25.741155Z"
    }
   },
   "outputs": [
    {
     "data": {
      "text/plain": [
       "array([23.73866213, 28.02768166, 39.63535474, 26.01456816])"
      ]
     },
     "execution_count": 18,
     "metadata": {},
     "output_type": "execute_result"
    }
   ],
   "source": [
    "# Imprime o calculo de cada valor\n",
    "\n",
    "pesos / altura ** 2"
   ]
  },
  {
   "cell_type": "code",
   "execution_count": 19,
   "id": "2a4e0661",
   "metadata": {
    "ExecuteTime": {
     "end_time": "2022-08-30T09:55:25.817528Z",
     "start_time": "2022-08-30T09:55:25.804700Z"
    }
   },
   "outputs": [
    {
     "data": {
      "text/plain": [
       "array(['1', '2', 'casa', 'True'], dtype='<U11')"
      ]
     },
     "execution_count": 19,
     "metadata": {},
     "output_type": "execute_result"
    }
   ],
   "source": [
    "# Array Numpy armazena elementos como strings quando estes não são inteiros ou float\n",
    "\n",
    "a = np.array([1, 2, 'casa', True])\n",
    "a"
   ]
  },
  {
   "cell_type": "code",
   "execution_count": 20,
   "id": "ab5db65b",
   "metadata": {
    "ExecuteTime": {
     "end_time": "2022-08-30T09:55:25.865665Z",
     "start_time": "2022-08-30T09:55:25.824780Z"
    }
   },
   "outputs": [
    {
     "ename": "UFuncTypeError",
     "evalue": "ufunc 'multiply' did not contain a loop with signature matching types (dtype('<U11'), dtype('int32')) -> None",
     "output_type": "error",
     "traceback": [
      "\u001b[1;31m---------------------------------------------------------------------------\u001b[0m",
      "\u001b[1;31mUFuncTypeError\u001b[0m                            Traceback (most recent call last)",
      "Input \u001b[1;32mIn [20]\u001b[0m, in \u001b[0;36m<cell line: 1>\u001b[1;34m()\u001b[0m\n\u001b[1;32m----> 1\u001b[0m \u001b[43ma\u001b[49m\u001b[43m \u001b[49m\u001b[38;5;241;43m*\u001b[39;49m\u001b[43m \u001b[49m\u001b[38;5;241;43m2\u001b[39;49m\n",
      "\u001b[1;31mUFuncTypeError\u001b[0m: ufunc 'multiply' did not contain a loop with signature matching types (dtype('<U11'), dtype('int32')) -> None"
     ]
    }
   ],
   "source": [
    "a * 2"
   ]
  },
  {
   "cell_type": "markdown",
   "id": "4841c17f",
   "metadata": {},
   "source": [
    "# Metodos e Atributos Uteis"
   ]
  },
  {
   "cell_type": "code",
   "execution_count": 21,
   "id": "b61a737b",
   "metadata": {
    "ExecuteTime": {
     "end_time": "2022-08-30T09:55:40.926475Z",
     "start_time": "2022-08-30T09:55:40.909717Z"
    }
   },
   "outputs": [
    {
     "data": {
      "text/plain": [
       "'two_dim.'"
      ]
     },
     "execution_count": 21,
     "metadata": {},
     "output_type": "execute_result"
    }
   ],
   "source": [
    "# Metodos e Atributos tecle tab\n",
    "'''two_dim.'''"
   ]
  },
  {
   "cell_type": "code",
   "execution_count": 22,
   "id": "2a4ff34b",
   "metadata": {
    "ExecuteTime": {
     "end_time": "2022-08-30T09:55:40.947969Z",
     "start_time": "2022-08-30T09:55:40.932690Z"
    }
   },
   "outputs": [
    {
     "data": {
      "text/plain": [
       "array([[1, 2, 3],\n",
       "       [4, 5, 6]])"
      ]
     },
     "execution_count": 22,
     "metadata": {},
     "output_type": "execute_result"
    }
   ],
   "source": [
    "two_dim"
   ]
  },
  {
   "cell_type": "code",
   "execution_count": 23,
   "id": "4c1760c8",
   "metadata": {
    "ExecuteTime": {
     "end_time": "2022-08-30T09:55:40.966099Z",
     "start_time": "2022-08-30T09:55:40.951815Z"
    }
   },
   "outputs": [
    {
     "data": {
      "text/plain": [
       "(2, 3)"
      ]
     },
     "execution_count": 23,
     "metadata": {},
     "output_type": "execute_result"
    }
   ],
   "source": [
    "# Retorna a forma do array no formato linhas e colunas\n",
    "\n",
    "two_dim.shape"
   ]
  },
  {
   "cell_type": "code",
   "execution_count": 24,
   "id": "b532ecc3",
   "metadata": {
    "ExecuteTime": {
     "end_time": "2022-08-30T09:55:40.987589Z",
     "start_time": "2022-08-30T09:55:40.972769Z"
    }
   },
   "outputs": [
    {
     "data": {
      "text/plain": [
       "2"
      ]
     },
     "execution_count": 24,
     "metadata": {},
     "output_type": "execute_result"
    }
   ],
   "source": [
    "# Retorna a quantidade de dimensoes\n",
    "\n",
    "two_dim.ndim"
   ]
  },
  {
   "cell_type": "code",
   "execution_count": 25,
   "id": "905386a7",
   "metadata": {
    "ExecuteTime": {
     "end_time": "2022-08-30T09:55:41.005252Z",
     "start_time": "2022-08-30T09:55:40.993553Z"
    }
   },
   "outputs": [
    {
     "data": {
      "text/plain": [
       "6"
      ]
     },
     "execution_count": 25,
     "metadata": {},
     "output_type": "execute_result"
    }
   ],
   "source": [
    "# Valor maximo do array\n",
    "\n",
    "two_dim.max()"
   ]
  },
  {
   "cell_type": "code",
   "execution_count": 26,
   "id": "794b169d",
   "metadata": {
    "ExecuteTime": {
     "end_time": "2022-08-30T09:55:41.021220Z",
     "start_time": "2022-08-30T09:55:41.010547Z"
    }
   },
   "outputs": [
    {
     "data": {
      "text/plain": [
       "1"
      ]
     },
     "execution_count": 26,
     "metadata": {},
     "output_type": "execute_result"
    }
   ],
   "source": [
    "# Valor Minimo do array\n",
    "\n",
    "two_dim.min()"
   ]
  },
  {
   "cell_type": "code",
   "execution_count": 27,
   "id": "bca36963",
   "metadata": {
    "ExecuteTime": {
     "end_time": "2022-08-30T09:55:41.044705Z",
     "start_time": "2022-08-30T09:55:41.027204Z"
    }
   },
   "outputs": [
    {
     "data": {
      "text/plain": [
       "3.5"
      ]
     },
     "execution_count": 27,
     "metadata": {},
     "output_type": "execute_result"
    }
   ],
   "source": [
    "# Valor Medio do array\n",
    "\n",
    "two_dim.mean()"
   ]
  },
  {
   "cell_type": "code",
   "execution_count": 28,
   "id": "1d8609ba",
   "metadata": {
    "ExecuteTime": {
     "end_time": "2022-08-30T09:55:41.069998Z",
     "start_time": "2022-08-30T09:55:41.049982Z"
    }
   },
   "outputs": [
    {
     "data": {
      "text/plain": [
       "1.707825127659933"
      ]
     },
     "execution_count": 28,
     "metadata": {},
     "output_type": "execute_result"
    }
   ],
   "source": [
    "# Imprimindo o desvio padrao\n",
    "\n",
    "two_dim.std()"
   ]
  },
  {
   "cell_type": "code",
   "execution_count": 29,
   "id": "8d7bc137",
   "metadata": {
    "ExecuteTime": {
     "end_time": "2022-08-30T09:55:41.086746Z",
     "start_time": "2022-08-30T09:55:41.075050Z"
    }
   },
   "outputs": [
    {
     "data": {
      "text/plain": [
       "array([[1, 2, 3],\n",
       "       [4, 5, 6]])"
      ]
     },
     "execution_count": 29,
     "metadata": {},
     "output_type": "execute_result"
    }
   ],
   "source": [
    "two_dim"
   ]
  },
  {
   "cell_type": "code",
   "execution_count": 30,
   "id": "f69622a6",
   "metadata": {
    "ExecuteTime": {
     "end_time": "2022-08-30T09:55:41.116819Z",
     "start_time": "2022-08-30T09:55:41.096415Z"
    }
   },
   "outputs": [
    {
     "data": {
      "text/plain": [
       "dtype('int32')"
      ]
     },
     "execution_count": 30,
     "metadata": {},
     "output_type": "execute_result"
    }
   ],
   "source": [
    "# Tipo\n",
    "\n",
    "two_dim.dtype"
   ]
  },
  {
   "cell_type": "code",
   "execution_count": 31,
   "id": "d44ba140",
   "metadata": {
    "ExecuteTime": {
     "end_time": "2022-08-30T09:55:41.134860Z",
     "start_time": "2022-08-30T09:55:41.121463Z"
    }
   },
   "outputs": [
    {
     "data": {
      "text/plain": [
       "6"
      ]
     },
     "execution_count": 31,
     "metadata": {},
     "output_type": "execute_result"
    }
   ],
   "source": [
    "# size\n",
    "\n",
    "two_dim.size"
   ]
  },
  {
   "cell_type": "code",
   "execution_count": 32,
   "id": "e609c9d6",
   "metadata": {
    "ExecuteTime": {
     "end_time": "2022-08-30T09:55:41.155048Z",
     "start_time": "2022-08-30T09:55:41.139886Z"
    }
   },
   "outputs": [
    {
     "data": {
      "text/plain": [
       "4"
      ]
     },
     "execution_count": 32,
     "metadata": {},
     "output_type": "execute_result"
    }
   ],
   "source": [
    "# Mostra a quantidade\n",
    "\n",
    "two_dim.itemsize"
   ]
  },
  {
   "cell_type": "code",
   "execution_count": 33,
   "id": "5cb04f9a",
   "metadata": {
    "ExecuteTime": {
     "end_time": "2022-08-30T09:55:41.176372Z",
     "start_time": "2022-08-30T09:55:41.160924Z"
    }
   },
   "outputs": [
    {
     "data": {
      "text/plain": [
       "21"
      ]
     },
     "execution_count": 33,
     "metadata": {},
     "output_type": "execute_result"
    }
   ],
   "source": [
    "# Somando todos os elemntos do array\n",
    "\n",
    "two_dim.sum()"
   ]
  },
  {
   "cell_type": "markdown",
   "id": "55d8a901",
   "metadata": {},
   "source": [
    "# Transformando Array"
   ]
  },
  {
   "cell_type": "code",
   "execution_count": 34,
   "id": "a52a8a22",
   "metadata": {
    "ExecuteTime": {
     "end_time": "2022-08-30T09:55:41.205429Z",
     "start_time": "2022-08-30T09:55:41.183763Z"
    }
   },
   "outputs": [
    {
     "data": {
      "text/plain": [
       "array([[1, 2, 3],\n",
       "       [4, 5, 6]])"
      ]
     },
     "execution_count": 34,
     "metadata": {},
     "output_type": "execute_result"
    }
   ],
   "source": [
    "two_dim"
   ]
  },
  {
   "cell_type": "code",
   "execution_count": 35,
   "id": "56d35b16",
   "metadata": {
    "ExecuteTime": {
     "end_time": "2022-08-30T09:55:41.233044Z",
     "start_time": "2022-08-30T09:55:41.210416Z"
    }
   },
   "outputs": [
    {
     "data": {
      "text/plain": [
       "array([[1, 4],\n",
       "       [2, 5],\n",
       "       [3, 6]])"
      ]
     },
     "execution_count": 35,
     "metadata": {},
     "output_type": "execute_result"
    }
   ],
   "source": [
    "# Gera a transporta da matriz (linha - coluna)\n",
    "\n",
    "two_dim.T"
   ]
  },
  {
   "cell_type": "code",
   "execution_count": 36,
   "id": "6a2326b3",
   "metadata": {
    "ExecuteTime": {
     "end_time": "2022-08-30T09:55:41.256968Z",
     "start_time": "2022-08-30T09:55:41.239062Z"
    }
   },
   "outputs": [
    {
     "data": {
      "text/plain": [
       "array([1, 2, 3, 4, 5, 6])"
      ]
     },
     "execution_count": 36,
     "metadata": {},
     "output_type": "execute_result"
    }
   ],
   "source": [
    "# Transforma em uma matriz de uma linha\n",
    "# E Muito comum em bibliotecas como scikit-learn e keras\n",
    "\n",
    "two_dim.reshape(-1)"
   ]
  },
  {
   "cell_type": "code",
   "execution_count": 37,
   "id": "5dedce23",
   "metadata": {
    "ExecuteTime": {
     "end_time": "2022-08-30T09:55:41.274546Z",
     "start_time": "2022-08-30T09:55:41.261560Z"
    }
   },
   "outputs": [
    {
     "data": {
      "text/plain": [
       "array([[0.94725601, 0.30306967, 0.11312595],\n",
       "       [0.15022294, 0.3060963 , 0.76702089],\n",
       "       [0.72714535, 0.17584878, 0.74728342],\n",
       "       [0.7147612 , 0.1506417 , 0.17973528],\n",
       "       [0.18417884, 0.2157105 , 0.83723882]])"
      ]
     },
     "execution_count": 37,
     "metadata": {},
     "output_type": "execute_result"
    }
   ],
   "source": [
    "# Novo array\n",
    "\n",
    "tree = np.random.random((5, 3))\n",
    "tree"
   ]
  },
  {
   "cell_type": "code",
   "execution_count": 38,
   "id": "782a866f",
   "metadata": {
    "ExecuteTime": {
     "end_time": "2022-08-30T09:55:41.288570Z",
     "start_time": "2022-08-30T09:55:41.278484Z"
    }
   },
   "outputs": [
    {
     "data": {
      "text/plain": [
       "(5, 3)"
      ]
     },
     "execution_count": 38,
     "metadata": {},
     "output_type": "execute_result"
    }
   ],
   "source": [
    "tree.shape"
   ]
  },
  {
   "cell_type": "code",
   "execution_count": 39,
   "id": "27e7cf57",
   "metadata": {
    "ExecuteTime": {
     "end_time": "2022-08-30T09:55:41.306479Z",
     "start_time": "2022-08-30T09:55:41.294973Z"
    }
   },
   "outputs": [
    {
     "data": {
      "text/plain": [
       "array([[0.94725601, 0.30306967, 0.11312595, 0.15022294, 0.3060963 ],\n",
       "       [0.76702089, 0.72714535, 0.17584878, 0.74728342, 0.7147612 ],\n",
       "       [0.1506417 , 0.17973528, 0.18417884, 0.2157105 , 0.83723882]])"
      ]
     },
     "execution_count": 39,
     "metadata": {},
     "output_type": "execute_result"
    }
   ],
   "source": [
    "# Transforma em uma matriz com 3 linhas e 5 colunas\n",
    "\n",
    "tree.reshape(3, 5)"
   ]
  },
  {
   "cell_type": "code",
   "execution_count": 40,
   "id": "93a61f51",
   "metadata": {
    "ExecuteTime": {
     "end_time": "2022-08-30T09:55:41.330105Z",
     "start_time": "2022-08-30T09:55:41.311941Z"
    }
   },
   "outputs": [
    {
     "data": {
      "text/plain": [
       "array([0.94725601, 0.30306967, 0.11312595, 0.15022294, 0.3060963 ,\n",
       "       0.76702089, 0.72714535, 0.17584878, 0.74728342, 0.7147612 ,\n",
       "       0.1506417 , 0.17973528, 0.18417884, 0.2157105 , 0.83723882])"
      ]
     },
     "execution_count": 40,
     "metadata": {},
     "output_type": "execute_result"
    }
   ],
   "source": [
    "tree.reshape(-1)"
   ]
  },
  {
   "cell_type": "code",
   "execution_count": 41,
   "id": "bcb54fe6",
   "metadata": {
    "ExecuteTime": {
     "end_time": "2022-08-30T09:55:41.350222Z",
     "start_time": "2022-08-30T09:55:41.336919Z"
    }
   },
   "outputs": [
    {
     "data": {
      "text/plain": [
       "array([[0.94725601, 0.30306967, 0.11312595, 0.15022294, 0.3060963 ,\n",
       "        0.76702089, 0.72714535, 0.17584878, 0.74728342, 0.7147612 ,\n",
       "        0.1506417 , 0.17973528, 0.18417884, 0.2157105 , 0.83723882]])"
      ]
     },
     "execution_count": 41,
     "metadata": {},
     "output_type": "execute_result"
    }
   ],
   "source": [
    "t = tree.reshape(1, 15)\n",
    "t"
   ]
  },
  {
   "cell_type": "code",
   "execution_count": 42,
   "id": "ace559eb",
   "metadata": {
    "ExecuteTime": {
     "end_time": "2022-08-30T09:55:41.377367Z",
     "start_time": "2022-08-30T09:55:41.354239Z"
    }
   },
   "outputs": [
    {
     "data": {
      "text/plain": [
       "array([[1, 2, 3],\n",
       "       [4, 5, 6]])"
      ]
     },
     "execution_count": 42,
     "metadata": {},
     "output_type": "execute_result"
    }
   ],
   "source": [
    "two_dim"
   ]
  },
  {
   "cell_type": "code",
   "execution_count": 43,
   "id": "28577453",
   "metadata": {
    "ExecuteTime": {
     "end_time": "2022-08-30T09:55:41.392986Z",
     "start_time": "2022-08-30T09:55:41.381885Z"
    }
   },
   "outputs": [
    {
     "data": {
      "text/plain": [
       "array([10,  1,  2,  3,  4,  5,  6])"
      ]
     },
     "execution_count": 43,
     "metadata": {},
     "output_type": "execute_result"
    }
   ],
   "source": [
    "# Adicionando elementos a um array\n",
    "\n",
    "two_dim = np.insert(two_dim, 0, 10)\n",
    "two_dim"
   ]
  },
  {
   "cell_type": "code",
   "execution_count": 44,
   "id": "8696f18a",
   "metadata": {
    "ExecuteTime": {
     "end_time": "2022-08-30T09:55:41.417692Z",
     "start_time": "2022-08-30T09:55:41.400162Z"
    }
   },
   "outputs": [
    {
     "data": {
      "text/plain": [
       "array([1, 2, 3, 4, 5, 6])"
      ]
     },
     "execution_count": 44,
     "metadata": {},
     "output_type": "execute_result"
    }
   ],
   "source": [
    "# Apagando o elemento da primeira posição do array\n",
    "\n",
    "two_dim = np.delete(two_dim,[0])\n",
    "two_dim"
   ]
  },
  {
   "cell_type": "code",
   "execution_count": 45,
   "id": "093f298b",
   "metadata": {
    "ExecuteTime": {
     "end_time": "2022-08-30T09:55:41.433239Z",
     "start_time": "2022-08-30T09:55:41.422679Z"
    }
   },
   "outputs": [],
   "source": [
    "# Gerando um arquivo .txt a partir de um array\n",
    "\n",
    "np.savetxt('dataset_array.txt', two_dim, delimiter=',')"
   ]
  },
  {
   "cell_type": "markdown",
   "id": "48690211",
   "metadata": {},
   "source": [
    "# Parte II - Acessand Dimensoes no Array"
   ]
  },
  {
   "cell_type": "code",
   "execution_count": 46,
   "id": "6d8ef2df",
   "metadata": {
    "ExecuteTime": {
     "end_time": "2022-08-30T09:55:41.450027Z",
     "start_time": "2022-08-30T09:55:41.438669Z"
    }
   },
   "outputs": [],
   "source": [
    "# Importando o Numpy\n",
    "\n",
    "import numpy as np\n",
    "import pandas as pd"
   ]
  },
  {
   "cell_type": "code",
   "execution_count": 47,
   "id": "c360aeaa",
   "metadata": {
    "ExecuteTime": {
     "end_time": "2022-08-30T09:55:41.485016Z",
     "start_time": "2022-08-30T09:55:41.457204Z"
    }
   },
   "outputs": [
    {
     "data": {
      "text/plain": [
       "array([[0.32247656, 0.78901644],\n",
       "       [0.93802437, 0.21851392],\n",
       "       [0.29408096, 0.22545578],\n",
       "       [0.38314804, 0.51934582],\n",
       "       [0.8317014 , 0.38816658],\n",
       "       [0.86765608, 0.8197853 ],\n",
       "       [0.92307346, 0.35763416],\n",
       "       [0.20939915, 0.10326464],\n",
       "       [0.25557395, 0.02650876],\n",
       "       [0.90217778, 0.99239342]])"
      ]
     },
     "execution_count": 47,
     "metadata": {},
     "output_type": "execute_result"
    }
   ],
   "source": [
    "# Gera um array aleatório de 10 linhas e 2 colunas\n",
    "# formato linha,coluna\n",
    "\n",
    "my_array = np.random.random([10, 2])\n",
    "my_array"
   ]
  },
  {
   "cell_type": "code",
   "execution_count": 48,
   "id": "31d33454",
   "metadata": {
    "ExecuteTime": {
     "end_time": "2022-08-30T09:55:41.514660Z",
     "start_time": "2022-08-30T09:55:41.496552Z"
    }
   },
   "outputs": [
    {
     "data": {
      "text/plain": [
       "array([0.32247656, 0.78901644])"
      ]
     },
     "execution_count": 48,
     "metadata": {},
     "output_type": "execute_result"
    }
   ],
   "source": [
    "# Imprimindo o Primeiro elemento (1 linha)\n",
    "\n",
    "my_array[0]"
   ]
  },
  {
   "cell_type": "code",
   "execution_count": 49,
   "id": "8d24c0fc",
   "metadata": {
    "ExecuteTime": {
     "end_time": "2022-08-30T09:55:41.533111Z",
     "start_time": "2022-08-30T09:55:41.520972Z"
    }
   },
   "outputs": [
    {
     "data": {
      "text/plain": [
       "0.32247655528854247"
      ]
     },
     "execution_count": 49,
     "metadata": {},
     "output_type": "execute_result"
    }
   ],
   "source": [
    "# Imprimindo o primeiro elemento da coluna 0 (1 coluna)\n",
    "\n",
    "my_array[0][0]"
   ]
  },
  {
   "cell_type": "code",
   "execution_count": 50,
   "id": "5fc87f39",
   "metadata": {
    "ExecuteTime": {
     "end_time": "2022-08-30T09:55:41.555543Z",
     "start_time": "2022-08-30T09:55:41.538450Z"
    }
   },
   "outputs": [
    {
     "data": {
      "text/plain": [
       "0.7890164375538025"
      ]
     },
     "execution_count": 50,
     "metadata": {},
     "output_type": "execute_result"
    }
   ],
   "source": [
    "# Primeiro elemento da coluna 1\n",
    "\n",
    "my_array[0][1]"
   ]
  },
  {
   "cell_type": "code",
   "execution_count": 51,
   "id": "6d47cce8",
   "metadata": {
    "ExecuteTime": {
     "end_time": "2022-08-30T09:55:41.586478Z",
     "start_time": "2022-08-30T09:55:41.563036Z"
    }
   },
   "outputs": [
    {
     "data": {
      "text/plain": [
       "0.21851392209534082"
      ]
     },
     "execution_count": 51,
     "metadata": {},
     "output_type": "execute_result"
    }
   ],
   "source": [
    "# Segundo elemento da coluna 1\n",
    "\n",
    "my_array[1][1]"
   ]
  },
  {
   "cell_type": "code",
   "execution_count": 52,
   "id": "514764ca",
   "metadata": {
    "ExecuteTime": {
     "end_time": "2022-08-30T09:55:41.613235Z",
     "start_time": "2022-08-30T09:55:41.597536Z"
    }
   },
   "outputs": [
    {
     "data": {
      "text/plain": [
       "0.21851392209534082"
      ]
     },
     "execution_count": 52,
     "metadata": {},
     "output_type": "execute_result"
    }
   ],
   "source": [
    "# Segundo elemento da coluna escrito com virgula.\n",
    "# O primeiro valor especifica a linha e o segundo valor especifica a coluna.\n",
    "\n",
    "my_array[1,1]"
   ]
  },
  {
   "cell_type": "code",
   "execution_count": 53,
   "id": "b1a6a20a",
   "metadata": {
    "ExecuteTime": {
     "end_time": "2022-08-30T09:55:41.644525Z",
     "start_time": "2022-08-30T09:55:41.617901Z"
    }
   },
   "outputs": [
    {
     "data": {
      "text/plain": [
       "array([0.78901644, 0.21851392, 0.22545578])"
      ]
     },
     "execution_count": 53,
     "metadata": {},
     "output_type": "execute_result"
    }
   ],
   "source": [
    "# Imprimindo até 3 valores da coluna 1\n",
    "\n",
    "my_array[:3, 1]"
   ]
  },
  {
   "cell_type": "code",
   "execution_count": 54,
   "id": "e6fed00f",
   "metadata": {
    "ExecuteTime": {
     "end_time": "2022-08-30T09:55:41.668074Z",
     "start_time": "2022-08-30T09:55:41.650018Z"
    }
   },
   "outputs": [
    {
     "data": {
      "text/plain": [
       "array([7.89016438, 2.18513922, 2.25455776, 5.19345817, 3.8816658 ,\n",
       "       8.19785298, 3.57634157, 1.03264643, 0.26508758, 9.92393418])"
      ]
     },
     "execution_count": 54,
     "metadata": {},
     "output_type": "execute_result"
    }
   ],
   "source": [
    "# Imprime todas as linhas da coluna 2 * 10\n",
    "\n",
    "my_array[:,1] * 10"
   ]
  },
  {
   "cell_type": "code",
   "execution_count": 55,
   "id": "9a76eb62",
   "metadata": {
    "ExecuteTime": {
     "end_time": "2022-08-30T09:55:41.685723Z",
     "start_time": "2022-08-30T09:55:41.672512Z"
    }
   },
   "outputs": [
    {
     "data": {
      "text/plain": [
       "array([[False,  True],\n",
       "       [ True, False],\n",
       "       [False, False],\n",
       "       [False,  True],\n",
       "       [ True, False],\n",
       "       [ True,  True],\n",
       "       [ True, False],\n",
       "       [False, False],\n",
       "       [False, False],\n",
       "       [ True,  True]])"
      ]
     },
     "execution_count": 55,
     "metadata": {},
     "output_type": "execute_result"
    }
   ],
   "source": [
    "# Comparação retorna indices\n",
    "\n",
    "my_array > 0.50"
   ]
  },
  {
   "cell_type": "code",
   "execution_count": 56,
   "id": "440e3681",
   "metadata": {
    "ExecuteTime": {
     "end_time": "2022-08-30T09:55:41.707911Z",
     "start_time": "2022-08-30T09:55:41.697812Z"
    }
   },
   "outputs": [
    {
     "data": {
      "text/plain": [
       "array([0.78901644, 0.93802437, 0.51934582, 0.8317014 , 0.86765608,\n",
       "       0.8197853 , 0.92307346, 0.90217778, 0.99239342])"
      ]
     },
     "execution_count": 56,
     "metadata": {},
     "output_type": "execute_result"
    }
   ],
   "source": [
    "# Acessando valores por índices\n",
    "\n",
    "my_array[my_array > 0.50]"
   ]
  },
  {
   "cell_type": "markdown",
   "id": "e7d467ef",
   "metadata": {},
   "source": [
    "## Carregar Arrays Numpy a Partir de arquivos de texto"
   ]
  },
  {
   "cell_type": "code",
   "execution_count": 57,
   "id": "1e331230",
   "metadata": {
    "ExecuteTime": {
     "end_time": "2022-08-30T09:55:41.732002Z",
     "start_time": "2022-08-30T09:55:41.714971Z"
    }
   },
   "outputs": [
    {
     "data": {
      "text/plain": [
       "array([1., 2., 3., 4., 5., 6.])"
      ]
     },
     "execution_count": 57,
     "metadata": {},
     "output_type": "execute_result"
    }
   ],
   "source": [
    "# Lendo um arquivo do tipo .txt\n",
    "\n",
    "dataset = np.loadtxt('dataset_array.txt', delimiter=',')\n",
    "dataset"
   ]
  },
  {
   "cell_type": "code",
   "execution_count": 58,
   "id": "ab7042fe",
   "metadata": {
    "ExecuteTime": {
     "end_time": "2022-08-30T09:55:41.748559Z",
     "start_time": "2022-08-30T09:55:41.737270Z"
    }
   },
   "outputs": [
    {
     "data": {
      "text/plain": [
       "(6,)"
      ]
     },
     "execution_count": 58,
     "metadata": {},
     "output_type": "execute_result"
    }
   ],
   "source": [
    "dataset.shape"
   ]
  },
  {
   "cell_type": "code",
   "execution_count": null,
   "id": "cc68f8ad",
   "metadata": {},
   "outputs": [],
   "source": []
  },
  {
   "cell_type": "code",
   "execution_count": null,
   "id": "9a96366e",
   "metadata": {},
   "outputs": [],
   "source": []
  }
 ],
 "metadata": {
  "kernelspec": {
   "display_name": "Python 3 (ipykernel)",
   "language": "python",
   "name": "python3"
  },
  "language_info": {
   "codemirror_mode": {
    "name": "ipython",
    "version": 3
   },
   "file_extension": ".py",
   "mimetype": "text/x-python",
   "name": "python",
   "nbconvert_exporter": "python",
   "pygments_lexer": "ipython3",
   "version": "3.10.4"
  },
  "vscode": {
   "interpreter": {
    "hash": "e03b612d84ba21ce95ed447e81b3062e1eb99b56c6d885cdab4aaa12f1b8e240"
   }
  }
 },
 "nbformat": 4,
 "nbformat_minor": 5
}
