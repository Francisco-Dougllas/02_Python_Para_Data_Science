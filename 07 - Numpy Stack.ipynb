{
 "cells": [
  {
   "cell_type": "markdown",
   "id": "13aaa187",
   "metadata": {},
   "source": [
    "# Python Para Analise de Dados - Numpy"
   ]
  },
  {
   "cell_type": "code",
   "execution_count": 1,
   "id": "23e9d846",
   "metadata": {
    "ExecuteTime": {
     "end_time": "2022-08-09T18:27:55.368218Z",
     "start_time": "2022-08-09T18:27:54.487411Z"
    }
   },
   "outputs": [],
   "source": [
    "# Importando a Bibliotecas\n",
    "import numpy as np\n",
    "import pandas as pd"
   ]
  },
  {
   "cell_type": "code",
   "execution_count": 2,
   "id": "7db38b33",
   "metadata": {
    "ExecuteTime": {
     "end_time": "2022-08-09T18:27:55.398001Z",
     "start_time": "2022-08-09T18:27:55.372582Z"
    }
   },
   "outputs": [
    {
     "data": {
      "text/plain": [
       "array([1, 2, 3, 4, 5])"
      ]
     },
     "execution_count": 2,
     "metadata": {},
     "output_type": "execute_result"
    }
   ],
   "source": [
    "# Criando um array de 1 dimensão\n",
    "\n",
    "one_dim = np.array([1, 2, 3, 4, 5])\n",
    "one_dim"
   ]
  },
  {
   "cell_type": "code",
   "execution_count": 3,
   "id": "a7480c49",
   "metadata": {
    "ExecuteTime": {
     "end_time": "2022-08-09T18:27:56.185584Z",
     "start_time": "2022-08-09T18:27:56.164747Z"
    }
   },
   "outputs": [
    {
     "data": {
      "text/plain": [
       "numpy.ndarray"
      ]
     },
     "execution_count": 3,
     "metadata": {},
     "output_type": "execute_result"
    }
   ],
   "source": [
    "# tipo\n",
    "\n",
    "type(one_dim)"
   ]
  },
  {
   "cell_type": "code",
   "execution_count": 4,
   "id": "88ba1d60",
   "metadata": {
    "ExecuteTime": {
     "end_time": "2022-08-09T18:27:57.379878Z",
     "start_time": "2022-08-09T18:27:57.358650Z"
    }
   },
   "outputs": [
    {
     "name": "stdout",
     "output_type": "stream",
     "text": [
      "[1 2 3 4 5]\n"
     ]
    }
   ],
   "source": [
    "# Imprimindo o Array\n",
    "\n",
    "print(one_dim)"
   ]
  },
  {
   "cell_type": "code",
   "execution_count": 5,
   "id": "cad9f50a",
   "metadata": {
    "ExecuteTime": {
     "end_time": "2022-08-09T18:27:58.063625Z",
     "start_time": "2022-08-09T18:27:58.054023Z"
    }
   },
   "outputs": [
    {
     "data": {
      "text/plain": [
       "array([[1, 2, 3],\n",
       "       [4, 5, 6]])"
      ]
     },
     "execution_count": 5,
     "metadata": {},
     "output_type": "execute_result"
    }
   ],
   "source": [
    "# Criando um array de 2 dimensoes\n",
    "\n",
    "two_dim = np.array([(1, 2, 3), (4, 5, 6)])\n",
    "two_dim"
   ]
  },
  {
   "cell_type": "code",
   "execution_count": 6,
   "id": "50d33c74",
   "metadata": {
    "ExecuteTime": {
     "end_time": "2022-08-09T18:28:57.081106Z",
     "start_time": "2022-08-09T18:28:57.063284Z"
    }
   },
   "outputs": [
    {
     "name": "stdout",
     "output_type": "stream",
     "text": [
      "[[1 2 3]\n",
      " [4 5 6]]\n"
     ]
    }
   ],
   "source": [
    "# Imprimindo o array\n",
    "\n",
    "print(two_dim)"
   ]
  },
  {
   "cell_type": "code",
   "execution_count": 7,
   "id": "7487538e",
   "metadata": {
    "ExecuteTime": {
     "end_time": "2022-08-09T18:28:58.038643Z",
     "start_time": "2022-08-09T18:28:58.012327Z"
    }
   },
   "outputs": [
    {
     "data": {
      "text/plain": [
       "array([[0.54769405, 0.32746292],\n",
       "       [0.92107542, 0.48152433],\n",
       "       [0.7321096 , 0.45169282],\n",
       "       [0.35379054, 0.73009284],\n",
       "       [0.56016706, 0.05401403]])"
      ]
     },
     "execution_count": 7,
     "metadata": {},
     "output_type": "execute_result"
    }
   ],
   "source": [
    "# Cria um array de numeros aleatorios\n",
    "# Um array de 5 linhas e duas dimensoes\n",
    "\n",
    "np.random.random((5, 2))"
   ]
  },
  {
   "cell_type": "code",
   "execution_count": 8,
   "id": "f22ee165",
   "metadata": {
    "ExecuteTime": {
     "end_time": "2022-08-09T18:29:24.355216Z",
     "start_time": "2022-08-09T18:29:24.337968Z"
    }
   },
   "outputs": [
    {
     "data": {
      "text/plain": [
       "array([10, 15, 20, 25, 30, 35, 40, 45])"
      ]
     },
     "execution_count": 8,
     "metadata": {},
     "output_type": "execute_result"
    }
   ],
   "source": [
    "# Cria um array com valores esparsos iniciando com o valor 10, menor que 50 e incrementando de 5 em 5\n",
    "\n",
    "np.arange(10, 50, 5)"
   ]
  },
  {
   "cell_type": "code",
   "execution_count": 9,
   "id": "783b39f0",
   "metadata": {
    "ExecuteTime": {
     "end_time": "2022-08-09T18:29:25.266173Z",
     "start_time": "2022-08-09T18:29:25.247142Z"
    }
   },
   "outputs": [
    {
     "data": {
      "text/plain": [
       "array([0.  , 0.25, 0.5 , 0.75, 1.  , 1.25, 1.5 , 1.75, 2.  ])"
      ]
     },
     "execution_count": 9,
     "metadata": {},
     "output_type": "execute_result"
    }
   ],
   "source": [
    "# Cria um array linear de 0 e 2 de no maximo 9 elementos\n",
    "\n",
    "np.linspace(0, 2, 9)"
   ]
  },
  {
   "cell_type": "code",
   "execution_count": 10,
   "id": "6da825ad",
   "metadata": {
    "ExecuteTime": {
     "end_time": "2022-08-09T18:29:25.985131Z",
     "start_time": "2022-08-09T18:29:25.971870Z"
    }
   },
   "outputs": [
    {
     "data": {
      "text/plain": [
       "array([[0., 0., 0., 0.],\n",
       "       [0., 0., 0., 0.],\n",
       "       [0., 0., 0., 0.]])"
      ]
     },
     "execution_count": 10,
     "metadata": {},
     "output_type": "execute_result"
    }
   ],
   "source": [
    "# Cria um array de valores zero\n",
    "# Cria um array com 3 linhas e 4 dimensoes\n",
    "\n",
    "np.zeros((3, 4))"
   ]
  },
  {
   "cell_type": "markdown",
   "id": "e8df9ba0",
   "metadata": {},
   "source": [
    "# Numpy Arrays Vs Listas\n",
    "\n",
    "- Arrays Numpy permitem fazermos operações em **arrays inteiros** de forma rápida.\n",
    "- Listas não permitem operações em todos os elementos da lista.\n",
    "- Para operações em todos os elementos é preciso interar sobre toda a lista.\n",
    "- Listas em Python armazenam diferentes tipos de objetos\n",
    "- Arrays Numpy considera todos os elementos de tipos distintos como strings"
   ]
  },
  {
   "cell_type": "code",
   "execution_count": null,
   "id": "1c074de4",
   "metadata": {},
   "outputs": [],
   "source": [
    "# Criando uma lista em Python\n",
    "\n",
    "lista = [1, 2, 3]\n",
    "lista"
   ]
  },
  {
   "cell_type": "code",
   "execution_count": null,
   "id": "113ba00a",
   "metadata": {},
   "outputs": [],
   "source": [
    "# Multiplicar valores da lista por 2\n",
    "\n",
    "lista * 2"
   ]
  },
  {
   "cell_type": "code",
   "execution_count": null,
   "id": "aed5a995",
   "metadata": {},
   "outputs": [],
   "source": [
    "# Transforme a variavel lista em um array numpy\n",
    "\n",
    "lista = np.array(lista)\n",
    "lista"
   ]
  },
  {
   "cell_type": "code",
   "execution_count": null,
   "id": "d66fcdb1",
   "metadata": {},
   "outputs": [],
   "source": [
    "# Multiplicando cada elemento por 2\n",
    "\n",
    "lista * 2"
   ]
  },
  {
   "cell_type": "code",
   "execution_count": null,
   "id": "6fbde357",
   "metadata": {},
   "outputs": [],
   "source": [
    "# Calcular IMC de pessoas\n",
    "\n",
    "pesos = [67, 81, 120, 90]\n",
    "altura = [1.68, 1.70, 1.74, 1.86]"
   ]
  },
  {
   "cell_type": "code",
   "execution_count": null,
   "id": "b1a9fa4c",
   "metadata": {},
   "outputs": [],
   "source": [
    "# Faz o calculo usando lista\n",
    "\n",
    "pesos / altura ** 2 # Dara erro pois listas nao sao iteraveis, para isso deverei usa o for"
   ]
  },
  {
   "cell_type": "code",
   "execution_count": null,
   "id": "86a80daa",
   "metadata": {},
   "outputs": [],
   "source": [
    "# Transformando isso em array numpy\n",
    "\n",
    "pesos = np.array(pesos)\n",
    "altura = np.array(altura)"
   ]
  },
  {
   "cell_type": "code",
   "execution_count": null,
   "id": "eee2052b",
   "metadata": {},
   "outputs": [],
   "source": [
    "# Imprime o calculo de cada valor\n",
    "\n",
    "pesos / altura ** 2"
   ]
  },
  {
   "cell_type": "code",
   "execution_count": null,
   "id": "2a4e0661",
   "metadata": {},
   "outputs": [],
   "source": [
    "# Array Numpy armazena elementos como strings quando estes não são inteiros ou float\n",
    "\n",
    "a = np.array([1, 2, 'casa', True])\n",
    "a"
   ]
  },
  {
   "cell_type": "code",
   "execution_count": null,
   "id": "ab5db65b",
   "metadata": {},
   "outputs": [],
   "source": [
    "a * 2"
   ]
  },
  {
   "cell_type": "markdown",
   "id": "4841c17f",
   "metadata": {},
   "source": [
    "# Metodos e Atributos Uteis"
   ]
  },
  {
   "cell_type": "code",
   "execution_count": null,
   "id": "b61a737b",
   "metadata": {},
   "outputs": [],
   "source": [
    "# Metodos e Atributos tecle tab\n",
    "'''two_dim.'''"
   ]
  },
  {
   "cell_type": "code",
   "execution_count": null,
   "id": "2a4ff34b",
   "metadata": {},
   "outputs": [],
   "source": [
    "two_dim"
   ]
  },
  {
   "cell_type": "code",
   "execution_count": null,
   "id": "4c1760c8",
   "metadata": {},
   "outputs": [],
   "source": [
    "# Retorna a forma do array no formato linhas e colunas\n",
    "\n",
    "two_dim.shape"
   ]
  },
  {
   "cell_type": "code",
   "execution_count": null,
   "id": "b532ecc3",
   "metadata": {},
   "outputs": [],
   "source": [
    "# Retorna a quantidade de dimensoes\n",
    "\n",
    "two_dim.ndim"
   ]
  },
  {
   "cell_type": "code",
   "execution_count": null,
   "id": "905386a7",
   "metadata": {},
   "outputs": [],
   "source": [
    "# Valor maximo do array\n",
    "\n",
    "two_dim.max()"
   ]
  },
  {
   "cell_type": "code",
   "execution_count": null,
   "id": "794b169d",
   "metadata": {},
   "outputs": [],
   "source": [
    "# Valor Minimo do array\n",
    "\n",
    "two_dim.min()"
   ]
  },
  {
   "cell_type": "code",
   "execution_count": null,
   "id": "bca36963",
   "metadata": {},
   "outputs": [],
   "source": [
    "# Valor Medio do array\n",
    "\n",
    "two_dim.mean()"
   ]
  },
  {
   "cell_type": "code",
   "execution_count": null,
   "id": "1d8609ba",
   "metadata": {},
   "outputs": [],
   "source": [
    "# Imprimindo o desvio padrao\n",
    "\n",
    "two_dim.std()"
   ]
  },
  {
   "cell_type": "code",
   "execution_count": null,
   "id": "8d7bc137",
   "metadata": {},
   "outputs": [],
   "source": [
    "two_dim"
   ]
  },
  {
   "cell_type": "code",
   "execution_count": null,
   "id": "f69622a6",
   "metadata": {},
   "outputs": [],
   "source": [
    "# Tipo\n",
    "\n",
    "two_dim.dtype"
   ]
  },
  {
   "cell_type": "code",
   "execution_count": null,
   "id": "d44ba140",
   "metadata": {},
   "outputs": [],
   "source": [
    "# size\n",
    "\n",
    "two_dim.size"
   ]
  },
  {
   "cell_type": "code",
   "execution_count": null,
   "id": "e609c9d6",
   "metadata": {},
   "outputs": [],
   "source": [
    "# Mostra a quantidade\n",
    "\n",
    "two_dim.itemsize"
   ]
  },
  {
   "cell_type": "code",
   "execution_count": null,
   "id": "5cb04f9a",
   "metadata": {},
   "outputs": [],
   "source": [
    "# Somando todos os elemntos do array\n",
    "\n",
    "two_dim.sum()"
   ]
  },
  {
   "cell_type": "markdown",
   "id": "55d8a901",
   "metadata": {},
   "source": [
    "# Transformando Array"
   ]
  },
  {
   "cell_type": "code",
   "execution_count": null,
   "id": "a52a8a22",
   "metadata": {},
   "outputs": [],
   "source": [
    "two_dim"
   ]
  },
  {
   "cell_type": "code",
   "execution_count": null,
   "id": "56d35b16",
   "metadata": {},
   "outputs": [],
   "source": [
    "# Gera a transporta da matriz (linha - coluna)\n",
    "\n",
    "two_dim.T"
   ]
  },
  {
   "cell_type": "code",
   "execution_count": null,
   "id": "6a2326b3",
   "metadata": {},
   "outputs": [],
   "source": [
    "# Transforma em uma matriz de uma linha\n",
    "# E Muito comum em bibliotecas como scikit-learn e keras\n",
    "\n",
    "two_dim.reshape(-1)"
   ]
  },
  {
   "cell_type": "code",
   "execution_count": null,
   "id": "5dedce23",
   "metadata": {},
   "outputs": [],
   "source": [
    "# Novo array\n",
    "\n",
    "tree = np.random.random((5, 3))\n",
    "tree"
   ]
  },
  {
   "cell_type": "code",
   "execution_count": null,
   "id": "782a866f",
   "metadata": {},
   "outputs": [],
   "source": [
    "tree.shape"
   ]
  },
  {
   "cell_type": "code",
   "execution_count": null,
   "id": "27e7cf57",
   "metadata": {},
   "outputs": [],
   "source": [
    "# Transforma em uma matriz com 3 linhas e 5 colunas\n",
    "\n",
    "tree.reshape(3, 5)"
   ]
  },
  {
   "cell_type": "code",
   "execution_count": null,
   "id": "93a61f51",
   "metadata": {},
   "outputs": [],
   "source": [
    "tree.reshape(-1)"
   ]
  },
  {
   "cell_type": "code",
   "execution_count": null,
   "id": "bcb54fe6",
   "metadata": {},
   "outputs": [],
   "source": [
    "t = tree.reshape(1, 15)\n",
    "t"
   ]
  },
  {
   "cell_type": "code",
   "execution_count": null,
   "id": "ace559eb",
   "metadata": {},
   "outputs": [],
   "source": [
    "two_dim"
   ]
  },
  {
   "cell_type": "code",
   "execution_count": null,
   "id": "28577453",
   "metadata": {},
   "outputs": [],
   "source": [
    "# Adicionando elementos a um array\n",
    "\n",
    "two_dim = np.insert(two_dim, 0, 10)\n",
    "two_dim"
   ]
  },
  {
   "cell_type": "code",
   "execution_count": null,
   "id": "8696f18a",
   "metadata": {},
   "outputs": [],
   "source": [
    "# Apagando o elemento da primeira posição do array\n",
    "\n",
    "two_dim = np.delete(two_dim,[0])\n",
    "two_dim"
   ]
  },
  {
   "cell_type": "code",
   "execution_count": null,
   "id": "093f298b",
   "metadata": {},
   "outputs": [],
   "source": [
    "# Gerando um arquivo .txt a partir de um array\n",
    "\n",
    "np.savetxt('dataset_array.txt', two_dim, delimiter=',')"
   ]
  },
  {
   "cell_type": "markdown",
   "id": "48690211",
   "metadata": {},
   "source": [
    "# Parte II - Acessand Dimensoes no Array"
   ]
  },
  {
   "cell_type": "code",
   "execution_count": null,
   "id": "6d8ef2df",
   "metadata": {},
   "outputs": [],
   "source": [
    "# Importando o Numpy\n",
    "\n",
    "import numpy as np\n",
    "import pandas as pd"
   ]
  },
  {
   "cell_type": "code",
   "execution_count": null,
   "id": "c360aeaa",
   "metadata": {},
   "outputs": [],
   "source": [
    "# Gera um array aleatório de 10 linhas e 2 colunas\n",
    "# formato linha,coluna\n",
    "\n",
    "my_array = np.random.random([10, 2])\n",
    "my_array"
   ]
  },
  {
   "cell_type": "code",
   "execution_count": null,
   "id": "31d33454",
   "metadata": {},
   "outputs": [],
   "source": [
    "# Imprimindo o Primeiro elemento (1 linha)\n",
    "\n",
    "my_array[0]"
   ]
  },
  {
   "cell_type": "code",
   "execution_count": null,
   "id": "8d24c0fc",
   "metadata": {},
   "outputs": [],
   "source": [
    "# Imprimindo o primeiro elemento da coluna 0 (1 coluna)\n",
    "\n",
    "my_array[0][0]"
   ]
  },
  {
   "cell_type": "code",
   "execution_count": null,
   "id": "5fc87f39",
   "metadata": {},
   "outputs": [],
   "source": [
    "# Primeiro elemento da coluna 1\n",
    "\n",
    "my_array[0][1]"
   ]
  },
  {
   "cell_type": "code",
   "execution_count": null,
   "id": "6d47cce8",
   "metadata": {},
   "outputs": [],
   "source": [
    "# Segundo elemento da coluna 1\n",
    "\n",
    "my_array[1][1]"
   ]
  },
  {
   "cell_type": "code",
   "execution_count": null,
   "id": "514764ca",
   "metadata": {},
   "outputs": [],
   "source": [
    "# Segundo elemento da coluna escrito com virgula.\n",
    "# O primeiro valor especifica a linha e o segundo valor especifica a coluna.\n",
    "\n",
    "my_array[1,1]"
   ]
  },
  {
   "cell_type": "code",
   "execution_count": null,
   "id": "b1a6a20a",
   "metadata": {},
   "outputs": [],
   "source": [
    "# Imprimindo até 3 valores da coluna 1\n",
    "\n",
    "my_array[:3, 1]"
   ]
  },
  {
   "cell_type": "code",
   "execution_count": null,
   "id": "e6fed00f",
   "metadata": {},
   "outputs": [],
   "source": [
    "# Imprime todas as linhas da coluna 2 * 10\n",
    "\n",
    "my_array[:,1] * 10"
   ]
  },
  {
   "cell_type": "code",
   "execution_count": null,
   "id": "9a76eb62",
   "metadata": {},
   "outputs": [],
   "source": [
    "# Comparação retorna indices\n",
    "\n",
    "my_array > 0.50"
   ]
  },
  {
   "cell_type": "code",
   "execution_count": null,
   "id": "440e3681",
   "metadata": {},
   "outputs": [],
   "source": [
    "# Acessando valores por índices\n",
    "\n",
    "my_array[my_array > 0.50]"
   ]
  },
  {
   "cell_type": "markdown",
   "id": "e7d467ef",
   "metadata": {},
   "source": [
    "## Carregar Arrays Numpy a Partir de arquivos de texto"
   ]
  },
  {
   "cell_type": "code",
   "execution_count": null,
   "id": "1e331230",
   "metadata": {},
   "outputs": [],
   "source": [
    "# Lendo um arquivo do tipo .txt\n",
    "\n",
    "dataset = np.loadtxt('dataset_array.txt', delimiter=',')\n",
    "dataset"
   ]
  },
  {
   "cell_type": "code",
   "execution_count": null,
   "id": "ab7042fe",
   "metadata": {},
   "outputs": [],
   "source": [
    "dataset.shape"
   ]
  },
  {
   "cell_type": "code",
   "execution_count": null,
   "id": "cc68f8ad",
   "metadata": {},
   "outputs": [],
   "source": []
  },
  {
   "cell_type": "code",
   "execution_count": null,
   "id": "9a96366e",
   "metadata": {},
   "outputs": [],
   "source": []
  }
 ],
 "metadata": {
  "kernelspec": {
   "display_name": "Python 3 (ipykernel)",
   "language": "python",
   "name": "python3"
  },
  "language_info": {
   "codemirror_mode": {
    "name": "ipython",
    "version": 3
   },
   "file_extension": ".py",
   "mimetype": "text/x-python",
   "name": "python",
   "nbconvert_exporter": "python",
   "pygments_lexer": "ipython3",
   "version": "3.9.12"
  }
 },
 "nbformat": 4,
 "nbformat_minor": 5
}
